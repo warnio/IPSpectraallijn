{
    "cells": [
        {
            "cell_type": "markdown",
            "metadata": {},
            "source": [
                "# General\n",
                "Template for labjournaal. See https:\/\/jupyter-notebook.readthedocs.io\/en\/stable\/examples\/Notebook\/Working%20With%20Markdown%20Cells.html for options to use markdown.\n",
                "\n",
                "**Name:**  \n",
                "**Title of the experiment:**  \n",
                "**Starting date:**  \n",
                "**Expected enddate:**  \n",
                "**Partner:**  \n",
                "**Goal of the experiment:**  \n",
                "**Research question:**  \n",
                "**Expectations or Hypothesis:**  \n",
                "**Desired accuracy:**  \n",
                "\n",
                "\n"
            ]
        },
        {
            "cell_type": "code",
            "execution_count": 1,
            "metadata": {},
            "outputs": [],
            "source": [
                "#import necessary libraries\n",
                "import matplotlib.pyplot as plt\n",
                "import numpy as np\n",
                "import math\n",
                "from scipy.optimize import curve_fit "
            ]
        },
        {
            "cell_type": "markdown",
            "metadata": {},
            "source": [
                "# Preparation\n",
                " \n"
            ]
        },
        {
            "cell_type": "markdown",
            "metadata": {},
            "source": [
                "**Assignments:**  "
            ]
        },
        {
            "cell_type": "markdown",
            "metadata": {},
            "source": [
                "**Method:**  \n",
                "**Theory:**  \n",
                "**Independent variable:**  \n",
                "**Dependent variable:**  \n",
                "**Controlled variablen:**  \n",
                "**Measurement instruments \\& Settings:**  \n",
                "**Procedure:**  \n",
                "**Setup(drawing or picture):**  \n",
                "**Notes:**  \n",
                "**About accuracy:**  \n"
            ]
        },
        {
            "cell_type": "markdown",
            "metadata": {},
            "source": [
                "# Execution"
            ]
        },
        {
            "cell_type": "code",
            "execution_count": 3,
            "metadata": {},
            "outputs": [],
            "source": [
                "# Measurements: Explain the names of variables provide only raw data in np.arrays!\n",
                "\n"
            ]
        },
        {
            "cell_type": "markdown",
            "metadata": {},
            "source": [
                "**Observations:**  \n",
                "**Notes:**  "
            ]
        },
        {
            "cell_type": "markdown",
            "metadata": {},
            "source": [
                "# Processing\n",
                "**Description of processing of raw data into scientific evidence:**\n"
            ]
        },
        {
            "cell_type": "code",
            "execution_count": null,
            "metadata": {},
            "outputs": [],
            "source": [
                "#Data processing and analysis:\n"
            ]
        },
        {
            "cell_type": "code",
            "execution_count": null,
            "metadata": {},
            "outputs": [],
            "source": [
                "#Data processing and analysis:\n"
            ]
        },
        {
            "cell_type": "code",
            "execution_count": null,
            "metadata": {},
            "outputs": [],
            "source": [
                "#Data processing and analysis:\n"
            ]
        },
        {
            "cell_type": "markdown",
            "metadata": {},
            "source": [
                "**Describing the pattern in the processed data:**  \n"
            ]
        },
        {
            "cell_type": "code",
            "execution_count": null,
            "metadata": {},
            "outputs": [],
            "source": [
                "#Calculations of e.a. measurement uncertainties, and providing final answers.\n"
            ]
        },
        {
            "cell_type": "markdown",
            "metadata": {},
            "source": [
                "**Notes:**  "
            ]
        },
        {
            "cell_type": "markdown",
            "metadata": {},
            "source": [
                "# Discussion\n",
                "\n"
            ]
        },
        {
            "cell_type": "markdown",
            "metadata": {},
            "source": [
                "# Conclusion"
            ]
        },
        {
            "cell_type": "code",
            "execution_count": null,
            "metadata": {},
            "outputs": [],
            "source": []
        },
        {
            "cell_type": "code",
            "execution_count": null,
            "metadata": {},
            "outputs": [],
            "source": []
        },
        {
            "cell_type": "markdown",
            "metadata": {},
            "source": [
                "# Additional notes, remarks, explanations, thoughts etc"
            ]
        },
        {
            "cell_type": "markdown",
            "metadata": {},
            "source": []
        }
    ],
    "metadata": {
        "kernelspec": {
            "display_name": "Python 3",
            "language": "python",
            "name": "python3"
        },
        "language_info": {
            "codemirror_mode": {
                "name": "ipython",
                "version": 3
            },
            "file_extension": ".py",
            "mimetype": "text\/x-python",
            "name": "python",
            "nbconvert_exporter": "python",
            "pygments_lexer": "ipython3",
            "version": "3.7.4"
        }
    },
    "nbformat": 4,
    "nbformat_minor": 2
}