{
 "cells": [
  {
   "cell_type": "markdown",
   "metadata": {},
   "source": [
    "# General\n",
    "Template for labjournaal. See https://jupyter-notebook.readthedocs.io/en/stable/examples/Notebook/Working%20With%20Markdown%20Cells.html for options to use markdown.\n",
    "\n",
    "**Name:** Dylan  \n",
    "**Title of the experiment:** Spectraallijn  \n",
    "**Starting date:** 2 Maart 2022  \n",
    "**Expected enddate:** ???  \n",
    "**Partner:**  \n",
    "**Goal of the experiment:** \"Het doel van deze proef is de golflengte van deze lijnen zo nauwkeurig mogelijk te bepalen.\"  \n",
    "**Research question:**  \n",
    "**Expectations or Hypothesis:**  \n",
    "**Desired accuracy:**  \n",
    "\n",
    "\n"
   ]
  },
  {
   "cell_type": "code",
   "execution_count": 1,
   "metadata": {},
   "outputs": [],
   "source": [
    "#import necessary libraries\n",
    "import matplotlib.pyplot as plt\n",
    "import numpy as np\n",
    "import math\n",
    "from scipy.optimize import curve_fit "
   ]
  },
  {
   "cell_type": "markdown",
   "metadata": {},
   "source": [
    "# Preparation\n",
    " \n"
   ]
  },
  {
   "cell_type": "markdown",
   "metadata": {},
   "source": [
    "**Assignments:**  "
   ]
  },
  {
   "cell_type": "markdown",
   "source": [
    "**Opdracht 1**\n",
    "\n",
    "Het licht uit beide bronnen komt natuurlijk ook in punt M terecht. Hoe groot is dan het weglengte (fase) verschil? Wat betekent dat in termen van constructieve of destructieve interferentie? Hangt dit af van de golflengte van het licht?"
   ],
   "metadata": {
    "collapsed": false
   }
  },
  {
   "cell_type": "markdown",
   "source": [
    "Het weglente verschil is $d \\sin \\theta$"
   ],
   "metadata": {
    "collapsed": false
   }
  },
  {
   "cell_type": "markdown",
   "source": [
    "**Opdracht 2**\n",
    "\n",
    "Kan m ook negatief zijn? Zo ja, wat betekent dit voor θ? Waar ligt P dan?"
   ],
   "metadata": {
    "collapsed": false
   }
  },
  {
   "cell_type": "markdown",
   "source": [
    "Ja. P ligt dan onder M"
   ],
   "metadata": {
    "collapsed": false,
    "pycharm": {
     "name": "#%% md\n"
    }
   }
  },
  {
   "cell_type": "markdown",
   "source": [
    "**Opdracht 3**\n",
    "\n",
    "Welke invloed heeft een toename in d op m en θ, en welke invloed heeft een afname? En welk effect heeft een toename/afname in m op d en θ en een toename/afname in θ op m en d?"
   ],
   "metadata": {
    "collapsed": false
   }
  },
  {
   "cell_type": "markdown",
   "source": [
    "- Een toename in d veroorzaakt alleen een afname in $\\theta$.\n",
    "- Een toename in m veroorzaakt alleen een toename in $\\theta$.\n",
    "- Een toename in $\\theta$ veroorzaakt niks, maar in het algemeen neemt m toe of d af."
   ],
   "metadata": {
    "collapsed": false,
    "pycharm": {
     "name": "#%% md\n"
    }
   }
  },
  {
   "cell_type": "markdown",
   "source": [
    "**Opdracht 4**\n",
    "\n",
    "In Fig. 20.7 is de richting van de eerste orde buiging van licht met één bepaalde golflengte getekend. Geef de vergelijking voor de hoek voor een volgende orde grootte. Geef van elk van de variabelen in de vergelijking aan of ze constant zijn of niet. Gebruik vgl. (20.1)."
   ],
   "metadata": {
    "collapsed": false
   }
  },
  {
   "cell_type": "markdown",
   "source": [
    "$$\n",
    "\\theta = \\arcsin \\frac{2\\lambda}{d}\n",
    "$$\n",
    "\n",
    "- $\\lambda$: constant\n",
    "- $d$: constant"
   ],
   "metadata": {
    "collapsed": false,
    "pycharm": {
     "name": "#%% md\n"
    }
   }
  },
  {
   "cell_type": "markdown",
   "source": [
    "**Opdracht 5**\n",
    "\n",
    "m kan ook negatief zijn. Wat zegt dit over de relatie tussen de hoeken i en $u_m$?"
   ],
   "metadata": {
    "collapsed": false
   }
  },
  {
   "cell_type": "markdown",
   "source": [
    "Als i stijgt, stijgt $u_m$. Als i daalt, daalt $u_m$"
   ],
   "metadata": {
    "collapsed": false,
    "pycharm": {
     "name": "#%% md\n"
    }
   }
  },
  {
   "cell_type": "markdown",
   "source": [
    "**Opdracht 6**\n",
    "\n",
    "Wanneer wordt vgl. (20.2) gelijk aan vgl. (20.1)?"
   ],
   "metadata": {
    "collapsed": false
   }
  },
  {
   "cell_type": "markdown",
   "source": [
    "Als $i=0$"
   ],
   "metadata": {
    "collapsed": false,
    "pycharm": {
     "name": "#%% md\n"
    }
   }
  },
  {
   "cell_type": "markdown",
   "source": [
    "**Opdracht 7**\n",
    "\n",
    "Laat zien dat als je vgl. (20.3) invult in de tralievergelijking (20.2) dat je dan de volgende voorwaarde krijgt voor licht met de golflengte λ op het vaste punt terecht komt.\n",
    "$$\n",
    "2 \\cos α \\sin φ = −mNλ\n",
    "$$\n",
    "waarin het N het aantal lijnen per lengte eenheid is, λ de golflengte en m orde van de buiging. m kan positieve en negatieve waarden (en nul) aannemen."
   ],
   "metadata": {
    "collapsed": false
   }
  },
  {
   "cell_type": "markdown",
   "source": [
    "Neem $i=\\alpha+\\varphi$, $u_m=\\alpha-\\varphi$. Laat $N=d^{-1}$. Dan\n",
    "\n",
    "$$\n",
    "\\begin{aligned}\n",
    "d \\sin u_m &= d \\sin i + m\\lambda\\\\\n",
    "d \\sin (\\alpha-\\varphi) &= d \\sin (\\alpha+\\varphi) + m\\lambda\\\\\n",
    "d (\\sin\\alpha \\cos-\\varphi + \\cos\\alpha \\sin-\\varphi) &= d (\\sin\\alpha \\cos\\varphi + \\cos\\alpha \\sin\\varphi) + m\\lambda\\\\\n",
    "d \\sin\\alpha \\cos\\varphi - d \\cos\\alpha \\sin\\varphi &= d \\sin\\alpha \\cos\\varphi + d \\cos\\alpha \\sin\\varphi + m\\lambda\\\\\n",
    "-d \\cos\\alpha \\sin\\varphi &= d \\cos\\alpha \\sin\\varphi + m\\lambda\\\\\n",
    "2d \\cos\\alpha \\sin\\varphi &= -m\\lambda\\\\\n",
    "2 \\cos\\alpha \\sin\\varphi &= -md^{-1}\\lambda\\\\\n",
    "2 \\cos\\alpha \\sin\\varphi &= -mN\\lambda\\\\\n",
    "\\end{aligned}\n",
    "$$"
   ],
   "metadata": {
    "collapsed": false,
    "pycharm": {
     "name": "#%% md\n"
    }
   }
  },
  {
   "cell_type": "markdown",
   "source": [
    "**Opdracht 8**\n",
    "\n",
    "Voor de situatie geschetst in Fig. 20.11, is m dan positief of negatief? Klopt dat met je antwoord bij vraag 5?"
   ],
   "metadata": {
    "collapsed": false
   }
  },
  {
   "cell_type": "markdown",
   "source": [
    "Sinds $0<\\alpha<\\pi/2$ en $0<\\varphi<\\pi/2$, $2\\cos\\alpha\\sin\\varphi>0$. Sinds $N>0$ en $\\lambda>0$, $-m>0$ en $m<0$."
   ],
   "metadata": {
    "collapsed": false,
    "pycharm": {
     "name": "#%% md\n"
    }
   }
  },
  {
   "cell_type": "markdown",
   "source": [
    "**Opdracht 9**\n",
    "\n",
    "Met vgl. (20.4) kunnen we uit metingen van α en φ, λ bepalen. Als we de onzekerheden in α en φ, u(α) en u(φ) noemen, leid dan de doorwerkingsformule voor de onzekerheid in λ , u(λ) af."
   ],
   "metadata": {
    "collapsed": false
   }
  },
  {
   "cell_type": "markdown",
   "source": [
    "$$\n",
    "\\begin{aligned}\n",
    "-mN\\lambda &= 2 \\cos\\alpha \\sin\\varphi\\\\\n",
    "\\lambda &= -\\frac{2 \\cos\\alpha \\sin\\varphi}{mN}\\\\\n",
    "u(\\lambda) &= 2 \\cdot \\sqrt{\n",
    "    \\left(\n",
    "        \\frac{u(\\cos\\alpha) \\sin\\varphi}{mN}\n",
    "    \\right)^2 +\n",
    "    \\left(\n",
    "        \\frac{\\cos\\alpha\\ u(\\sin\\varphi)}{mN}\n",
    "    \\right)^2 +\n",
    "    \\left(\n",
    "         \\frac{\\cos\\alpha \\sin\\varphi}{N} \\cdot u\\left(\\tfrac{1}{m}\\right)\n",
    "    \\right)^2 +\n",
    "    \\left(\n",
    "         \\frac{\\cos\\alpha \\sin\\varphi}{m} \\cdot u\\left(\\tfrac{1}{N}\\right)\n",
    "    \\right)^2\n",
    "} \\\\\n",
    "u(\\cos\\alpha) &= | u(\\alpha) \\cdot -\\sin\\alpha | = | u(\\alpha) \\cdot \\sin\\alpha | \\\\\n",
    "u(\\sin\\varphi) &= | u(\\varphi) \\cdot \\cos\\varphi | \\\\\n",
    "u\\left(\\tfrac{1}{m}\\right) &= \\left| u(m) \\cdot -\\tfrac{1}{m^2} \\right| \\\\\n",
    "u\\left(\\tfrac{1}{N}\\right) &= \\left| u(N) \\cdot -\\tfrac{1}{N^2} \\right| \\\\\n",
    "\\end{aligned}\n",
    "$$"
   ],
   "metadata": {
    "collapsed": false,
    "pycharm": {
     "name": "#%% md\n"
    }
   }
  },
  {
   "cell_type": "markdown",
   "source": [
    "**Opdracht 10**\n",
    "\n",
    "Met vgl. (20.5) kan uit metingen van u en ∆u, ∆λ bepaald worden. Je wilt natuurlijk de onzekerheid in ∆λ weten. Als je op de gebruikelijke manier de doorwerkingformule gaat uitrekenen, stuit je op een notatieprobleem. Noem daarom in deze vraag de uitgaande hoek v (was u) en het kleine verschil in uitgaande hoek ∆v (was ∆u). Als we de onzekerheden in v en ∆v aangeven met u(v) en u(∆v), leid dan de doorwerkingsformule voor de onzekerheid in ∆λ, u(∆λ) af."
   ],
   "metadata": {
    "collapsed": false
   }
  },
  {
   "cell_type": "markdown",
   "source": [
    "$$\n",
    "\\begin{aligned}\n",
    "\\Delta\\lambda &= \\frac{\\cos v}{mN} \\Delta v \\\\\n",
    "u(\\Delta\\lambda) &= \\sqrt{\n",
    "    \\left(\n",
    "        \\frac{\\Delta v}{mN} u(\\cos v)\n",
    "    \\right)^2 +\n",
    "    \\left(\n",
    "        \\frac{\\cos v\\Delta v}{N} u\\left(\\tfrac{1}{m}\\right)\n",
    "    \\right)^2 +\n",
    "    \\left(\n",
    "        \\frac{\\cos v\\Delta v}{m} u\\left(\\tfrac{1}{N}\\right)\n",
    "    \\right)^2 +\n",
    "    \\left(\n",
    "        \\frac{\\cos v}{mN} u(\\Delta v)\n",
    "    \\right)^2\n",
    "} \\\\\n",
    "u(\\cos v) &= \\left| u(v) \\cdot -\\sin v \\right| = \\left| u(v) \\cdot \\sin v \\right| \\\\\n",
    "u\\left(\\tfrac{1}{m}\\right) &= \\left| u(m) \\cdot -\\tfrac{1}{m^2} \\right| \\\\\n",
    "u\\left(\\tfrac{1}{N}\\right) &= \\left| u(N) \\cdot -\\tfrac{1}{N^2} \\right| \\\\\n",
    "\\end{aligned}\n",
    "$$"
   ],
   "metadata": {
    "collapsed": false,
    "pycharm": {
     "name": "#%% md\n"
    }
   }
  },
  {
   "cell_type": "markdown",
   "source": [
    "**Opdracht 11**\n",
    "\n",
    "Bedenk tenminste twee redenen waarom in de praktijk het waargenomen oplossend vermogen kleiner is dan de theoretische waarde."
   ],
   "metadata": {
    "collapsed": false
   }
  },
  {
   "cell_type": "markdown",
   "source": [
    "Bij een kleiner oplossend vermogen is het minimale golflengteverschil groter. Een kleiner oplossend vermogen betekent dus dat het moeilijker is om golflengtes van elkaar te scheiden. Dit kan komen (**kan niet uit de formule worden gelezen, dus ik weet niet echt of dit klopt**) door de aanwezigheid van andere bronnen, die de waarnemingen van de camera beïnvloeden. Daarnaast kan de bron meerdere golflengtes uitzenden waardoor het \"signaal\" verstoord raakt."
   ],
   "metadata": {
    "collapsed": false,
    "pycharm": {
     "name": "#%% md\n"
    }
   }
  },
  {
   "cell_type": "markdown",
   "metadata": {},
   "source": [
    "**Method:**  \n",
    "**Theory:**  \n",
    "**Independent variable:**  \n",
    "**Dependent variable:**  \n",
    "**Controlled variablen:**  \n",
    "**Measurement instruments \\& Settings:**  \n",
    "**Procedure:**  \n",
    "**Setup(drawing or picture):**  \n",
    "**Notes:**  \n",
    "**About accuracy:**  \n"
   ]
  },
  {
   "cell_type": "markdown",
   "metadata": {},
   "source": [
    "# Execution"
   ]
  },
  {
   "cell_type": "code",
   "execution_count": 3,
   "metadata": {},
   "outputs": [],
   "source": [
    "# Measurements: Explain the names of variables provide only raw data in np.arrays!\n",
    "\n"
   ]
  },
  {
   "cell_type": "markdown",
   "metadata": {},
   "source": [
    "**Observations:**  \n",
    "**Notes:**  "
   ]
  },
  {
   "cell_type": "markdown",
   "metadata": {},
   "source": [
    "# Processing\n",
    "**Description of processing of raw data into scientific evidence:**\n"
   ]
  },
  {
   "cell_type": "code",
   "execution_count": null,
   "metadata": {},
   "outputs": [],
   "source": [
    "#Data processing and analysis:\n"
   ]
  },
  {
   "cell_type": "code",
   "execution_count": null,
   "metadata": {},
   "outputs": [],
   "source": [
    "#Data processing and analysis:\n"
   ]
  },
  {
   "cell_type": "code",
   "execution_count": null,
   "metadata": {},
   "outputs": [],
   "source": [
    "#Data processing and analysis:\n"
   ]
  },
  {
   "cell_type": "markdown",
   "metadata": {},
   "source": [
    "**Describing the pattern in the processed data:**  \n"
   ]
  },
  {
   "cell_type": "code",
   "execution_count": null,
   "metadata": {},
   "outputs": [],
   "source": [
    "#Calculations of e.a. measurement uncertainties, and providing final answers.\n"
   ]
  },
  {
   "cell_type": "markdown",
   "metadata": {},
   "source": [
    "**Notes:**  "
   ]
  },
  {
   "cell_type": "markdown",
   "metadata": {},
   "source": [
    "# Discussion\n",
    "\n"
   ]
  },
  {
   "cell_type": "markdown",
   "metadata": {},
   "source": [
    "# Conclusion"
   ]
  },
  {
   "cell_type": "code",
   "execution_count": null,
   "metadata": {},
   "outputs": [],
   "source": []
  },
  {
   "cell_type": "code",
   "execution_count": null,
   "metadata": {},
   "outputs": [],
   "source": []
  },
  {
   "cell_type": "markdown",
   "metadata": {},
   "source": [
    "# Additional notes, remarks, explanations, thoughts etc"
   ]
  },
  {
   "cell_type": "markdown",
   "metadata": {},
   "source": []
  }
 ],
 "metadata": {
  "kernelspec": {
   "display_name": "Python 3",
   "language": "python",
   "name": "python3"
  },
  "language_info": {
   "codemirror_mode": {
    "name": "ipython",
    "version": 3
   },
   "file_extension": ".py",
   "mimetype": "text/x-python",
   "name": "python",
   "nbconvert_exporter": "python",
   "pygments_lexer": "ipython3",
   "version": "3.7.4"
  }
 },
 "nbformat": 4,
 "nbformat_minor": 2
}