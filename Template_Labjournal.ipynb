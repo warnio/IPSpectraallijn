{
 "cells": [
  {
   "cell_type": "markdown",
   "metadata": {},
   "source": [
    "# General\n",
    "Template for labjournaal. See https://jupyter-notebook.readthedocs.io/en/stable/examples/Notebook/Working%20With%20Markdown%20Cells.html for options to use markdown.\n",
    "\n",
    "**Name:** Dylan  \n",
    "**Title of the experiment:** Spectraallijn  \n",
    "**Starting date:** 2 Maart 2022  \n",
    "**Expected enddate:** ???  \n",
    "**Partner:**  \n",
    "**Goal of the experiment:** \"Het doel van deze proef is de golflengte van deze spectraallijnen zo nauwkeurig mogelijk te bepalen.\"\n",
    "**Research question:**  \n",
    "**Expectations or Hypothesis:**  \n",
    "**Desired accuracy:**  \n",
    "\n",
    "\n"
   ]
  },
  {
   "cell_type": "code",
   "execution_count": 174,
   "metadata": {},
   "outputs": [],
   "source": [
    "#import necessary libraries\n",
    "import matplotlib.pyplot as plt\n",
    "import numpy as np\n",
    "import math\n",
    "from scipy.optimize import curve_fit "
   ]
  },
  {
   "cell_type": "markdown",
   "metadata": {},
   "source": [
    "# Preparation\n",
    " \n"
   ]
  },
  {
   "cell_type": "markdown",
   "metadata": {},
   "source": [
    "**Assignments:**  "
   ]
  },
  {
   "cell_type": "markdown",
   "source": [
    "**Opdracht 1**\n",
    "\n",
    "Het licht uit beide bronnen komt natuurlijk ook in punt M terecht. Hoe groot is dan het weglengte (fase) verschil? Wat betekent dat in termen van constructieve of destructieve interferentie? Hangt dit af van de golflengte van het licht?"
   ],
   "metadata": {
    "collapsed": false
   }
  },
  {
   "cell_type": "markdown",
   "source": [
    "Het weglente verschil is $d \\sin \\theta$"
   ],
   "metadata": {
    "collapsed": false
   }
  },
  {
   "cell_type": "markdown",
   "source": [
    "**Opdracht 2**\n",
    "\n",
    "Kan m ook negatief zijn? Zo ja, wat betekent dit voor θ? Waar ligt P dan?"
   ],
   "metadata": {
    "collapsed": false
   }
  },
  {
   "cell_type": "markdown",
   "source": [
    "Ja. P ligt dan onder M"
   ],
   "metadata": {
    "collapsed": false,
    "pycharm": {
     "name": "#%% md\n"
    }
   }
  },
  {
   "cell_type": "markdown",
   "source": [
    "**Opdracht 3**\n",
    "\n",
    "Welke invloed heeft een toename in d op m en θ, en welke invloed heeft een afname? En welk effect heeft een toename/afname in m op d en θ en een toename/afname in θ op m en d?"
   ],
   "metadata": {
    "collapsed": false
   }
  },
  {
   "cell_type": "markdown",
   "source": [
    "- Een toename in d veroorzaakt alleen een afname in $\\theta$.\n",
    "- Een toename in m veroorzaakt alleen een toename in $\\theta$.\n",
    "- Een toename in $\\theta$ veroorzaakt niks, maar in het algemeen neemt m toe of d af."
   ],
   "metadata": {
    "collapsed": false,
    "pycharm": {
     "name": "#%% md\n"
    }
   }
  },
  {
   "cell_type": "markdown",
   "source": [
    "**Opdracht 4**\n",
    "\n",
    "In Fig. 20.7 is de richting van de eerste orde buiging van licht met één bepaalde golflengte getekend. Geef de vergelijking voor de hoek voor een volgende orde grootte. Geef van elk van de variabelen in de vergelijking aan of ze constant zijn of niet. Gebruik vgl. (20.1)."
   ],
   "metadata": {
    "collapsed": false
   }
  },
  {
   "cell_type": "markdown",
   "source": [
    "$$\n",
    "\\theta = \\arcsin \\frac{2\\lambda}{d}\n",
    "$$\n",
    "\n",
    "- $\\lambda$: constant\n",
    "- $d$: constant"
   ],
   "metadata": {
    "collapsed": false,
    "pycharm": {
     "name": "#%% md\n"
    }
   }
  },
  {
   "cell_type": "markdown",
   "source": [
    "**Opdracht 5**\n",
    "\n",
    "m kan ook negatief zijn. Wat zegt dit over de relatie tussen de hoeken i en $u_m$?"
   ],
   "metadata": {
    "collapsed": false
   }
  },
  {
   "cell_type": "markdown",
   "source": [
    "Als i stijgt, stijgt $u_m$. Als i daalt, daalt $u_m$"
   ],
   "metadata": {
    "collapsed": false,
    "pycharm": {
     "name": "#%% md\n"
    }
   }
  },
  {
   "cell_type": "markdown",
   "source": [
    "**Opdracht 6**\n",
    "\n",
    "Wanneer wordt vgl. (20.2) gelijk aan vgl. (20.1)?"
   ],
   "metadata": {
    "collapsed": false
   }
  },
  {
   "cell_type": "markdown",
   "source": [
    "Als $i=0$"
   ],
   "metadata": {
    "collapsed": false,
    "pycharm": {
     "name": "#%% md\n"
    }
   }
  },
  {
   "cell_type": "markdown",
   "source": [
    "**Opdracht 7**\n",
    "\n",
    "Laat zien dat als je vgl. (20.3) invult in de tralievergelijking (20.2) dat je dan de volgende voorwaarde krijgt voor licht met de golflengte λ op het vaste punt terecht komt.\n",
    "$$\n",
    "2 \\cos α \\sin φ = −mNλ\n",
    "$$\n",
    "waarin het N het aantal lijnen per lengte eenheid is, λ de golflengte en m orde van de buiging. m kan positieve en negatieve waarden (en nul) aannemen."
   ],
   "metadata": {
    "collapsed": false
   }
  },
  {
   "cell_type": "markdown",
   "source": [
    "Neem $i=\\alpha+\\varphi$, $u_m=\\alpha-\\varphi$. Laat $N=d^{-1}$. Dan\n",
    "\n",
    "$$\n",
    "\\begin{aligned}\n",
    "d \\sin u_m &= d \\sin i + m\\lambda\\\\\n",
    "d \\sin (\\alpha-\\varphi) &= d \\sin (\\alpha+\\varphi) + m\\lambda\\\\\n",
    "d (\\sin\\alpha \\cos-\\varphi + \\cos\\alpha \\sin-\\varphi) &= d (\\sin\\alpha \\cos\\varphi + \\cos\\alpha \\sin\\varphi) + m\\lambda\\\\\n",
    "d \\sin\\alpha \\cos\\varphi - d \\cos\\alpha \\sin\\varphi &= d \\sin\\alpha \\cos\\varphi + d \\cos\\alpha \\sin\\varphi + m\\lambda\\\\\n",
    "-d \\cos\\alpha \\sin\\varphi &= d \\cos\\alpha \\sin\\varphi + m\\lambda\\\\\n",
    "2d \\cos\\alpha \\sin\\varphi &= -m\\lambda\\\\\n",
    "2 \\cos\\alpha \\sin\\varphi &= -md^{-1}\\lambda\\\\\n",
    "2 \\cos\\alpha \\sin\\varphi &= -mN\\lambda\\\\\n",
    "\\end{aligned}\n",
    "$$"
   ],
   "metadata": {
    "collapsed": false,
    "pycharm": {
     "name": "#%% md\n"
    }
   }
  },
  {
   "cell_type": "markdown",
   "source": [
    "**Opdracht 8**\n",
    "\n",
    "Voor de situatie geschetst in Fig. 20.11, is m dan positief of negatief? Klopt dat met je antwoord bij vraag 5?"
   ],
   "metadata": {
    "collapsed": false
   }
  },
  {
   "cell_type": "markdown",
   "source": [
    "Sinds $0<\\alpha<\\pi/2$ en $0<\\varphi<\\pi/2$, $2\\cos\\alpha\\sin\\varphi>0$. Sinds $N>0$ en $\\lambda>0$, $-m>0$ en $m<0$."
   ],
   "metadata": {
    "collapsed": false,
    "pycharm": {
     "name": "#%% md\n"
    }
   }
  },
  {
   "cell_type": "markdown",
   "source": [
    "**Opdracht 9**\n",
    "\n",
    "Met vgl. (20.4) kunnen we uit metingen van α en φ, λ bepalen. Als we de onzekerheden in α en φ, u(α) en u(φ) noemen, leid dan de doorwerkingsformule voor de onzekerheid in λ , u(λ) af."
   ],
   "metadata": {
    "collapsed": false
   }
  },
  {
   "cell_type": "markdown",
   "source": [
    "$$\n",
    "\\begin{aligned}\n",
    "-mN\\lambda &= 2 \\cos\\alpha \\sin\\varphi\\\\\n",
    "\\lambda &= -\\frac{2 \\cos\\alpha \\sin\\varphi}{mN}\\\\\n",
    "u(\\lambda) &= 2 \\cdot \\sqrt{\n",
    "    \\left(\n",
    "        \\frac{u(\\cos\\alpha) \\sin\\varphi}{mN}\n",
    "    \\right)^2 +\n",
    "    \\left(\n",
    "        \\frac{\\cos\\alpha\\ u(\\sin\\varphi)}{mN}\n",
    "    \\right)^2 +\n",
    "    \\left(\n",
    "         \\frac{\\cos\\alpha \\sin\\varphi}{m} \\cdot u\\left(\\tfrac{1}{N}\\right)\n",
    "    \\right)^2\n",
    "} \\\\\n",
    "u(\\cos\\alpha) &= | u(\\alpha) \\cdot -\\sin\\alpha | = | u(\\alpha) \\cdot \\sin\\alpha | \\\\\n",
    "u(\\sin\\varphi) &= | u(\\varphi) \\cdot \\cos\\varphi | \\\\\n",
    "u\\left(\\tfrac{1}{N}\\right) &= \\left| u(N) \\cdot -\\tfrac{1}{N^2} \\right| \\\\\n",
    "\\end{aligned}\n",
    "$$"
   ],
   "metadata": {
    "collapsed": false,
    "pycharm": {
     "name": "#%% md\n"
    }
   }
  },
  {
   "cell_type": "markdown",
   "source": [
    "**Opdracht 10**\n",
    "\n",
    "Met vgl. (20.5) kan uit metingen van u en ∆u, ∆λ bepaald worden. Je wilt natuurlijk de onzekerheid in ∆λ weten. Als je op de gebruikelijke manier de doorwerkingformule gaat uitrekenen, stuit je op een notatieprobleem. Noem daarom in deze vraag de uitgaande hoek v (was u) en het kleine verschil in uitgaande hoek ∆v (was ∆u). Als we de onzekerheden in v en ∆v aangeven met u(v) en u(∆v), leid dan de doorwerkingsformule voor de onzekerheid in ∆λ, u(∆λ) af."
   ],
   "metadata": {
    "collapsed": false
   }
  },
  {
   "cell_type": "markdown",
   "source": [
    "$$\n",
    "\\begin{aligned}\n",
    "\\Delta\\lambda &= \\frac{\\cos v}{mN} \\Delta v \\\\\n",
    "u(\\Delta\\lambda) &= \\sqrt{\n",
    "    \\left(\n",
    "        \\frac{\\Delta v}{mN} u(\\cos v)\n",
    "    \\right)^2 +\n",
    "    \\left(\n",
    "        \\frac{\\cos v\\Delta v}{m} u\\left(\\tfrac{1}{N}\\right)\n",
    "    \\right)^2 +\n",
    "    \\left(\n",
    "        \\frac{\\cos v}{mN} u(\\Delta v)\n",
    "    \\right)^2\n",
    "} \\\\\n",
    "u(\\cos v) &= \\left| u(v) \\cdot -\\sin v \\right| = \\left| u(v) \\cdot \\sin v \\right| \\\\\n",
    "u\\left(\\tfrac{1}{N}\\right) &= \\left| u(N) \\cdot -\\tfrac{1}{N^2} \\right| \\\\\n",
    "\\end{aligned}\n",
    "$$"
   ],
   "metadata": {
    "collapsed": false,
    "pycharm": {
     "name": "#%% md\n"
    }
   }
  },
  {
   "cell_type": "markdown",
   "source": [
    "**Opdracht 11**\n",
    "\n",
    "Bedenk tenminste twee redenen waarom in de praktijk het waargenomen oplossend vermogen kleiner is dan de theoretische waarde."
   ],
   "metadata": {
    "collapsed": false
   }
  },
  {
   "cell_type": "markdown",
   "source": [
    "Bij een kleiner oplossend vermogen is het minimale golflengteverschil groter. Een kleiner oplossend vermogen betekent dus dat het moeilijker is om golflengtes van elkaar te scheiden. Dit kan komen (**kan niet uit de formule worden gelezen, dus ik weet niet echt of dit klopt**) door de aanwezigheid van andere bronnen, die de waarnemingen van de camera beïnvloeden. Daarnaast kan de bron meerdere golflengtes uitzenden waardoor het \"signaal\" verstoord raakt. De gevoeligheid van de camera kan ook een factor zijn."
   ],
   "metadata": {
    "collapsed": false,
    "pycharm": {
     "name": "#%% md\n"
    }
   }
  },
  {
   "cell_type": "markdown",
   "metadata": {},
   "source": [
    "**Method:**  \n",
    "**Theory:**  \n",
    "**Independent variable:**  \n",
    "**Dependent variable:**  \n",
    "**Controlled variablen:**  \n",
    "**Measurement instruments \\& Settings:**  \n",
    "**Procedure:**  \n",
    "**Setup(drawing or picture):**  \n",
    "**Notes:**  \n",
    "**About accuracy:**  \n"
   ]
  },
  {
   "cell_type": "markdown",
   "metadata": {},
   "source": [
    "# Execution"
   ]
  },
  {
   "cell_type": "markdown",
   "source": [
    "**Constants**"
   ],
   "metadata": {
    "collapsed": false
   }
  },
  {
   "cell_type": "code",
   "source": [
    "# Constants\n",
    "\n",
    "DEFAULT_FIGSIZE = (12, 9)\n",
    "\n",
    "# Enum voor verschillende kleuren licht\n",
    "YELLOW = 'yellow'\n",
    "GREEN = 'green'\n",
    "BLUE = 'blue'\n",
    "\n",
    "# Tralieconstante\n",
    "N = 600e3 # m^-1\n",
    "u_N = 0 # m^-1\n",
    "\n",
    "# Hoek van de 0-de orde stand\n",
    "alpha = np.deg2rad(15)\n",
    "u_alpha = np.deg2rad(1)"
   ],
   "metadata": {
    "collapsed": false,
    "pycharm": {
     "name": "#%%\n"
    }
   },
   "execution_count": 175,
   "outputs": []
  },
  {
   "cell_type": "markdown",
   "source": [
    "**Measurements**"
   ],
   "metadata": {
    "collapsed": false,
    "pycharm": {
     "name": "#%% md\n"
    }
   }
  },
  {
   "cell_type": "code",
   "execution_count": 176,
   "metadata": {},
   "outputs": [],
   "source": [
    "# Measurements: Explain the names of variables provide only raw data in np.arrays!\n",
    "\n",
    "# Format: Kleur, Orde, Aflezing (°), Fout (°)\n",
    "dataset1 = [\n",
    "    [YELLOW,    1,  3,  1],\n",
    "    [GREEN,     1,  4,  1],\n",
    "    [BLUE,      1,  6,  1],\n",
    "    [BLUE,      -1, 23, 1],\n",
    "    [GREEN,     -1, 25, 1],\n",
    "    [YELLOW,    -1, 26, 1],\n",
    "    [BLUE,      -2, 31, 1],\n",
    "    [GREEN,     -2, 35, 1],\n",
    "    [YELLOW,    -2, 37, 1],\n",
    "    [BLUE,      -3, 40, 1],\n",
    "    [GREEN,     -3, 46, 1],\n",
    "    [YELLOW,    -3, 48, 1],\n",
    "]\n",
    "\n",
    "# Kleuren van het licht\n",
    "color = np.array([entry[0] for entry in dataset1])\n",
    "\n",
    "# Orde\n",
    "m = np.array([float(entry[1]) for entry in dataset1])\n",
    "\n",
    "# Aflezing in graden\n",
    "theta = np.deg2rad([entry[2] for entry in dataset1])\n",
    "u_theta = np.deg2rad([entry[3] for entry in dataset1])"
   ]
  },
  {
   "cell_type": "markdown",
   "metadata": {},
   "source": [
    "**Observations:**  \n",
    "**Notes:**  "
   ]
  },
  {
   "cell_type": "markdown",
   "metadata": {},
   "source": [
    "# Processing\n",
    "**Description of processing of raw data into scientific evidence:**\n"
   ]
  },
  {
   "cell_type": "code",
   "execution_count": 182,
   "metadata": {},
   "outputs": [
    {
     "name": "stdout",
     "output_type": "stream",
     "text": [
      "𝜑 = \n",
      "[-0.20943951 -0.19198622 -0.15707963  0.13962634  0.17453293  0.19198622\n",
      "  0.27925268  0.34906585  0.38397244  0.43633231  0.54105207  0.57595865]\n",
      "u(𝜑) = \n",
      "[0.02468268 0.02468268 0.02468268 0.02468268 0.02468268 0.02468268\n",
      " 0.02468268 0.02468268 0.02468268 0.02468268 0.02468268 0.02468268]\n",
      "\n",
      "cos(𝛼) = 0.9659258262890683\n",
      "u(cos(𝛼)) = 0.004517244503906692\n",
      "\n",
      "sin(𝜑) = \n",
      "[-0.20791169 -0.190809   -0.15643447  0.1391731   0.17364818  0.190809\n",
      "  0.27563736  0.34202014  0.37460659  0.42261826  0.51503807  0.54463904]\n",
      "u(sin(𝜑)) = \n",
      "[0.02414331 0.02422919 0.0243788  0.02444247 0.0243077  0.02422919\n",
      " 0.02372652 0.02319414 0.02288539 0.02237011 0.02115719 0.02070064]\n",
      "\n",
      "𝜆 = \n",
      "[6.69424239e-07 6.14357788e-07 5.03680300e-07 4.48102975e-07\n",
      " 5.59104198e-07 6.14357788e-07 4.43742068e-07 5.50610149e-07\n",
      " 6.03070305e-07 4.53575437e-07 5.52765087e-07 5.84534344e-07]\n",
      "u(𝜆) = \n",
      "[7.77984937e-08 7.80648984e-08 7.85290378e-08 7.87266151e-08\n",
      " 7.83084406e-08 7.80648984e-08 3.82530910e-08 3.74283714e-08\n",
      " 3.69504313e-08 2.41022608e-08 2.28536456e-08 2.23845251e-08]\n",
      "\n"
     ]
    }
   ],
   "source": [
    "#Data processing and analysis:\n",
    "\n",
    "phi = theta - alpha\n",
    "u_phi = np.sqrt(u_theta**2 + u_alpha**2)\n",
    "print(f'𝜑 = \\n{phi}')\n",
    "print(f'u(𝜑) = \\n{u_phi}')\n",
    "print()\n",
    "\n",
    "cos_alpha = np.cos(alpha)\n",
    "u_cos_alpha = np.abs(u_alpha * np.sin(alpha))\n",
    "print(f'cos(𝛼) = {cos_alpha}')\n",
    "print(f'u(cos(𝛼)) = {u_cos_alpha}')\n",
    "print()\n",
    "\n",
    "sin_phi = np.sin(phi)\n",
    "u_sin_phi = np.abs(u_phi * np.cos(phi))\n",
    "print(f'sin(𝜑) = \\n{sin_phi}')\n",
    "print(f'u(sin(𝜑)) = \\n{u_sin_phi}')\n",
    "print()\n",
    "\n",
    "N_inv = 1/N\n",
    "u_N_inv = np.abs(-1*N**-2 * u_N)\n",
    "\n",
    "wavelength = -2 * np.cos(alpha) * np.sin(phi) / (m * N)\n",
    "u_wavelength = 2 * np.sqrt(\n",
    "    (u_cos_alpha * sin_phi * N_inv / m)**2 +\n",
    "    (cos_alpha * u_sin_phi * N_inv / m)**2 +\n",
    "    (cos_alpha * sin_phi * u_N_inv / m)**2\n",
    ")\n",
    "print(f'𝜆 = \\n{wavelength}')\n",
    "print(f'u(𝜆) = \\n{u_wavelength}')\n",
    "print()\n",
    "\n",
    "# print()\n",
    "# print(u_cos_alpha * sin_phi * N_inv / m)\n",
    "# print(cos_alpha * u_sin_phi * N_inv / m)\n",
    "# print(cos_alpha * sin_phi * u_N_inv / m)"
   ]
  },
  {
   "cell_type": "code",
   "execution_count": 178,
   "metadata": {},
   "outputs": [
    {
     "data": {
      "text/plain": "<Figure size 864x648 with 1 Axes>",
      "image/png": "[encoded data removed]"
     },
     "metadata": {
      "needs_background": "light"
     },
     "output_type": "display_data"
    },
    {
     "data": {
      "text/plain": "<Figure size 864x648 with 1 Axes>",
      "image/png": "[encoded data removed]"
     },
     "metadata": {
      "needs_background": "light"
     },
     "output_type": "display_data"
    },
    {
     "data": {
      "text/plain": "<Figure size 864x648 with 1 Axes>",
      "image/png": "[encoded data removed]"
     },
     "metadata": {
      "needs_background": "light"
     },
     "output_type": "display_data"
    },
    {
     "data": {
      "text/plain": "<Figure size 864x648 with 1 Axes>",
      "image/png": "[encoded data removed]"
     },
     "metadata": {
      "needs_background": "light"
     },
     "output_type": "display_data"
    },
    {
     "data": {
      "text/plain": "<Figure size 864x648 with 1 Axes>",
      "image/png": "[encoded data removed]"
     },
     "metadata": {
      "needs_background": "light"
     },
     "output_type": "display_data"
    },
    {
     "data": {
      "text/plain": "<Figure size 864x648 with 1 Axes>",
      "image/png": "[encoded data removed]"
     },
     "metadata": {
      "needs_background": "light"
     },
     "output_type": "display_data"
    },
    {
     "data": {
      "text/plain": "<Figure size 864x648 with 1 Axes>",
      "image/png": "[encoded data removed]"
     },
     "metadata": {
      "needs_background": "light"
     },
     "output_type": "display_data"
    },
    {
     "data": {
      "text/plain": "<Figure size 864x648 with 1 Axes>",
      "image/png": "[encoded data removed]"
     },
     "metadata": {
      "needs_background": "light"
     },
     "output_type": "display_data"
    },
    {
     "data": {
      "text/plain": "<Figure size 864x648 with 1 Axes>",
      "image/png": "[encoded data removed]"
     },
     "metadata": {
      "needs_background": "light"
     },
     "output_type": "display_data"
    },
    {
     "data": {
      "text/plain": "<Figure size 864x648 with 1 Axes>",
      "image/png": "[encoded data removed]"
     },
     "metadata": {
      "needs_background": "light"
     },
     "output_type": "display_data"
    }
   ],
   "source": [
    "#Data processing and analysis:\n",
    "\n",
    "def get_color_plot_data_iter():\n",
    "    return zip(color, m, wavelength * 1e9, u_wavelength * 1e9)\n",
    "\n",
    "def filter_plot_data_by_color(filter_color):\n",
    "    return np.array([[*dat] for (c, *dat) in get_color_plot_data_iter() if c == filter_color])\n",
    "\n",
    "plot_data_yellow = filter_plot_data_by_color(YELLOW)\n",
    "plot_data_green  = filter_plot_data_by_color(GREEN)\n",
    "plot_data_blue   = filter_plot_data_by_color(BLUE)\n",
    "\n",
    "def plot_dots(plt_data, label, color, **kwargs):\n",
    "    plt.plot(\n",
    "        plt_data[:,0],\n",
    "        plt_data[:,1],\n",
    "        '.',\n",
    "        label=label,\n",
    "        color=color,\n",
    "        markersize=12,\n",
    "    )\n",
    "\n",
    "def plot_errorbar(plt_data, label, color, **kwargs):\n",
    "    eb = plt.errorbar(\n",
    "        plt_data[:,0],\n",
    "        plt_data[:,1],\n",
    "        yerr=plt_data[:,2],\n",
    "        label=label,\n",
    "        color=color,\n",
    "        fmt='.',\n",
    "        markersize=12,\n",
    "        capsize=10,\n",
    "        capthick=2,\n",
    "        solid_capstyle='projecting',\n",
    "        **kwargs,\n",
    "    )\n",
    "    bars = eb[2]\n",
    "    for bar in bars:\n",
    "        bar.set_alpha(0.9)\n",
    "    return eb\n",
    "\n",
    "def plot(errorbar=True, colors=[YELLOW, GREEN, BLUE], spectral_lines=False):\n",
    "    plt.figure(figsize=DEFAULT_FIGSIZE)\n",
    "\n",
    "    plt.xticks(np.arange(m.min(), m.max() + 1))\n",
    "\n",
    "    def plot_series(*args, **kwargs):\n",
    "        if errorbar:\n",
    "            plot_errorbar(*args, **kwargs)\n",
    "        else:\n",
    "            plot_dots(*args, **kwargs)\n",
    "\n",
    "    if YELLOW in colors:\n",
    "        plot_series(plot_data_yellow, 'Geel', 'tab:olive')\n",
    "\n",
    "    if GREEN in colors:\n",
    "        plot_series(plot_data_green, 'Groen', 'tab:green')\n",
    "\n",
    "    if BLUE in colors:\n",
    "        plot_series(plot_data_blue, 'Blauw', 'tab:blue');\n",
    "\n",
    "    if spectral_lines:\n",
    "        axhline_style = { 'linewidth': 0.5 }\n",
    "        plt.axhline(578.1, m.min(), m.max(), color='tab:olive', **axhline_style)\n",
    "        plt.axhline(546.1, m.min(), m.max(), color='tab:green', **axhline_style)\n",
    "        plt.axhline(491.6, m.min(), m.max(), color='tab:cyan', **axhline_style)\n",
    "        plt.axhline(435.8, m.min(), m.max(), color='tab:blue', **axhline_style)\n",
    "        plt.axhline(404.7, m.min(), m.max(), color='tab:purple', **axhline_style)\n",
    "\n",
    "    plt.xlabel('Orde')\n",
    "    plt.ylabel('Golflengte (nm)')\n",
    "\n",
    "    plt.legend()\n",
    "    plt.show()\n",
    "\n",
    "plot_yellow_only = { 'yellow': True, 'green': False, 'blue': False }\n",
    "plot_green_only = { 'yellow': False, 'green': True, 'blue': False }\n",
    "plot_blue_only = { 'yellow': False, 'green': False, 'blue': True }\n",
    "\n",
    "for sl in [False, True]:\n",
    "    plot(colors=[YELLOW], spectral_lines=sl)\n",
    "    plot(colors=[GREEN], spectral_lines=sl)\n",
    "    plot(colors=[BLUE], spectral_lines=sl)\n",
    "    plot(spectral_lines=sl)\n",
    "    plot(errorbar=False, spectral_lines=sl)\n"
   ]
  },
  {
   "cell_type": "code",
   "execution_count": 179,
   "metadata": {},
   "outputs": [
    {
     "name": "stdout",
     "output_type": "stream",
     "text": [
      "𝜆_yellow = \n",
      "[6.69424239e-07 6.14357788e-07 6.03070305e-07 5.84534344e-07]\n",
      "u(𝜆_yellow) = \n",
      "[7.77984937e-08 7.80648984e-08 3.69504313e-08 2.23845251e-08]\n",
      "\n",
      "𝜆_green = \n",
      "[6.14357788e-07 5.59104198e-07 5.50610149e-07 5.52765087e-07]\n",
      "u(𝜆_green) = \n",
      "[7.80648984e-08 7.83084406e-08 3.74283714e-08 2.28536456e-08]\n",
      "\n",
      "𝜆_blue = \n",
      "[5.03680300e-07 4.48102975e-07 4.43742068e-07 4.53575437e-07]\n",
      "u(𝜆_blue) = \n",
      "[7.85290378e-08 7.87266151e-08 3.82530910e-08 2.41022608e-08]\n",
      "\n",
      "avg(𝜆_yellow) = 5.951624937327675e-07\n",
      "u(avg(𝜆_yellow)) = 1.8085007091954716e-08\n",
      "\n",
      "avg(𝜆_green) = 5.56013902829556e-07\n",
      "u(avg(𝜆_green)) = 1.8393887790907237e-08\n",
      "\n",
      "avg(𝜆_blue) = 4.5376675303451674e-07\n",
      "u(avg(𝜆_blue)) = 1.9144930928112147e-08\n",
      "\n"
     ]
    }
   ],
   "source": [
    "#Data processing and analysis:\n",
    "\n",
    "# Theoretische golflengtes van spectraallijnen van kwik\n",
    "\n",
    "real_yellow_wl = 578.1e-9\n",
    "u_real_yellow_wl = 1e-9\n",
    "\n",
    "real_green_wl = 546.1e-9\n",
    "u_real_green_wl = 0\n",
    "\n",
    "real_cyan_wl = 491.6e-9\n",
    "u_real_cyan_wl = 0\n",
    "\n",
    "real_blue_wl = 435.8e-9\n",
    "u_real_blue_wl = 0\n",
    "\n",
    "real_violet_wl = 404.7e-9\n",
    "u_real_violet_wl = 0\n",
    "\n",
    "# Ordenen van golflengtes op spectraallijn\n",
    "\n",
    "def filter_by_color(x, filter_color):\n",
    "    return np.array([e for (c, e) in zip(color, x) if c == filter_color])\n",
    "\n",
    "yellow_wl = filter_by_color(wavelength, YELLOW)\n",
    "u_yellow_wl = filter_by_color(u_wavelength, YELLOW)\n",
    "print(f'𝜆_yellow = \\n{yellow_wl}')\n",
    "print(f'u(𝜆_yellow) = \\n{u_yellow_wl}')\n",
    "print()\n",
    "\n",
    "green_wl = filter_by_color(wavelength, GREEN)\n",
    "u_green_wl = filter_by_color(u_wavelength, GREEN)\n",
    "print(f'𝜆_green = \\n{green_wl}')\n",
    "print(f'u(𝜆_green) = \\n{u_green_wl}')\n",
    "print()\n",
    "\n",
    "blue_wl = filter_by_color(wavelength, BLUE)\n",
    "u_blue_wl = filter_by_color(u_wavelength, BLUE)\n",
    "print(f'𝜆_blue = \\n{blue_wl}')\n",
    "print(f'u(𝜆_blue) = \\n{u_blue_wl}')\n",
    "print()\n",
    "\n",
    "# Berekenen van de gemiddeldes\n",
    "\n",
    "avg_yellow_wl = np.average(yellow_wl, weights=1 / u_yellow_wl ** 2)\n",
    "u_avg_yellow_wl = math.sqrt(1 / np.sum(1 / u_yellow_wl ** 2))\n",
    "print(f'avg(𝜆_yellow) = {avg_yellow_wl}')\n",
    "print(f'u(avg(𝜆_yellow)) = {u_avg_yellow_wl}')\n",
    "print()\n",
    "\n",
    "avg_green_wl = np.average(green_wl, weights=1 / u_green_wl ** 2)\n",
    "u_avg_green_wl = math.sqrt(1 / np.sum(1 / u_green_wl ** 2))\n",
    "print(f'avg(𝜆_green) = {avg_green_wl}')\n",
    "print(f'u(avg(𝜆_green)) = {u_avg_green_wl}')\n",
    "print()\n",
    "\n",
    "avg_blue_wl = np.average(blue_wl, weights=1 / u_blue_wl ** 2)\n",
    "u_avg_blue_wl = math.sqrt(1 / np.sum(1 / u_blue_wl ** 2))\n",
    "print(f'avg(𝜆_blue) = {avg_blue_wl}')\n",
    "print(f'u(avg(𝜆_blue)) = {u_avg_blue_wl}')\n",
    "print()"
   ]
  },
  {
   "cell_type": "code",
   "execution_count": 180,
   "outputs": [
    {
     "name": "stdout",
     "output_type": "stream",
     "text": [
      "Gele spectraallijn komt overeen\n",
      "Groene spectraallijn komt overeen\n",
      "Blauwe spectraallijn komt overeen\n"
     ]
    }
   ],
   "source": [
    "# Doe een strijdigheidsanalyse\n",
    "\n",
    "def is_strijdig(a, u_a, b, u_b):\n",
    "    return abs(a - b) > 2 * math.sqrt(u_a**2 + u_b**2)\n",
    "\n",
    "if is_strijdig(avg_yellow_wl, u_avg_yellow_wl, real_yellow_wl, u_real_yellow_wl):\n",
    "    print(\"Gele spectraallijn is strijdig\")\n",
    "else:\n",
    "    print(\"Gele spectraallijn komt overeen\")\n",
    "\n",
    "if is_strijdig(avg_green_wl, u_avg_green_wl, real_green_wl, u_real_green_wl):\n",
    "    print(\"Groene spectraallijn is strijdig\")\n",
    "else:\n",
    "    print(\"Groene spectraallijn komt overeen\")\n",
    "\n",
    "if is_strijdig(avg_blue_wl, u_avg_blue_wl, real_blue_wl, u_real_blue_wl):\n",
    "    print(\"Blauwe spectraallijn is strijdig\")\n",
    "else:\n",
    "    print(\"Blauwe spectraallijn komt overeen\")"
   ],
   "metadata": {
    "collapsed": false,
    "pycharm": {
     "name": "#%%\n"
    }
   }
  },
  {
   "cell_type": "markdown",
   "metadata": {},
   "source": [
    "**Describing the pattern in the processed data:**  \n"
   ]
  },
  {
   "cell_type": "code",
   "execution_count": 181,
   "metadata": {},
   "outputs": [],
   "source": [
    "#Calculations of e.a. measurement uncertainties, and providing final answers.\n"
   ]
  },
  {
   "cell_type": "markdown",
   "metadata": {},
   "source": [
    "**Notes:**  "
   ]
  },
  {
   "cell_type": "markdown",
   "metadata": {},
   "source": [
    "# Discussion\n",
    "\n"
   ]
  },
  {
   "cell_type": "markdown",
   "metadata": {},
   "source": [
    "# Conclusion"
   ]
  },
  {
   "cell_type": "code",
   "execution_count": 181,
   "metadata": {},
   "outputs": [],
   "source": []
  },
  {
   "cell_type": "code",
   "execution_count": 181,
   "metadata": {},
   "outputs": [],
   "source": []
  },
  {
   "cell_type": "markdown",
   "metadata": {},
   "source": [
    "# Additional notes, remarks, explanations, thoughts etc"
   ]
  },
  {
   "cell_type": "markdown",
   "metadata": {},
   "source": []
  }
 ],
 "metadata": {
  "kernelspec": {
   "display_name": "Python 3",
   "language": "python",
   "name": "python3"
  },
  "language_info": {
   "codemirror_mode": {
    "name": "ipython",
    "version": 3
   },
   "file_extension": ".py",
   "mimetype": "text/x-python",
   "name": "python",
   "nbconvert_exporter": "python",
   "pygments_lexer": "ipython3",
   "version": "3.7.4"
  }
 },
 "nbformat": 4,
 "nbformat_minor": 2
}