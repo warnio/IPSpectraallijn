{
 "cells": [
  {
   "cell_type": "markdown",
   "metadata": {},
   "source": [
    "# General  \n",
    "Template for labjournaal. See https://jupyter-notebook.readthedocs.io/en/stable/examples/Notebook/Working%20With%20Markdown%20Cells.html for options to use markdown.  \n",
    "  \n",
    "**Name:** Dylan Groeneveld  \n",
    "**Title of the experiment:** Spectraallijn  \n",
    "**Starting date:** 2 Maart 2022  \n",
    "**Expected enddate:** 18 Maart 2022  \n",
    "**Partner:** Alex van Solingen  \n",
    "**Goal of the experiment:** \"Het doel van deze proef is de golflengte van deze spectraallijnen zo nauwkeurig mogelijk te bepalen.\"  \n",
    "**Research question:** Wat is de golflengte van de gele, groene en blauwe spectraallijn van kwik?  \n",
    "**Expectations or Hypothesis:** Respectievelijk 577.1 – 579.1, 546.1 en 435.8 nm  \n",
    "**Desired accuracy:** n/a  \n",
    "  \n",
    "  \n",
    "  "
   ]
  },
  {
   "cell_type": "code",
   "execution_count": 15,
   "metadata": {},
   "outputs": [],
   "source": [
    "#import necessary libraries\n",
    "import matplotlib.pyplot as plt\n",
    "import numpy as np\n",
    "import math\n",
    "from scipy.optimize import curve_fit\n",
    "from IPython.display import display, Markdown, Latex"
   ]
  },
  {
   "cell_type": "markdown",
   "source": [
    "**Configuration**"
   ],
   "metadata": {
    "collapsed": false
   }
  },
  {
   "cell_type": "code",
   "execution_count": 16,
   "outputs": [],
   "source": [
    "# Plotgerelateerde code\n",
    "\n",
    "DEFAULT_FIGSIZE = None #(12, 9)\n",
    "\n",
    "def save_fig(name):\n",
    "    plt.savefig(f'image/{name}.eps')\n",
    "\n",
    "# Enum voor verschillende kleuren licht\n",
    "\n",
    "YELLOW = 'yellow'\n",
    "GREEN = 'green'\n",
    "BLUE = 'blue'"
   ],
   "metadata": {
    "collapsed": false,
    "pycharm": {
     "name": "#%%\n"
    }
   }
  },
  {
   "cell_type": "markdown",
   "metadata": {},
   "source": [
    "# Preparation\n",
    " \n"
   ]
  },
  {
   "cell_type": "markdown",
   "metadata": {},
   "source": [
    "**Assignments:**  "
   ]
  },
  {
   "cell_type": "markdown",
   "source": [
    "**Opdracht 1**\n",
    "\n",
    "Het licht uit beide bronnen komt natuurlijk ook in punt M terecht. Hoe groot is dan het weglengte (fase) verschil? Wat betekent dat in termen van constructieve of destructieve interferentie? Hangt dit af van de golflengte van het licht?"
   ],
   "metadata": {
    "collapsed": false
   }
  },
  {
   "cell_type": "markdown",
   "source": [
    "Het weglente verschil is $d \\sin \\theta$"
   ],
   "metadata": {
    "collapsed": false
   }
  },
  {
   "cell_type": "markdown",
   "source": [
    "**Opdracht 2**\n",
    "\n",
    "Kan m ook negatief zijn? Zo ja, wat betekent dit voor θ? Waar ligt P dan?"
   ],
   "metadata": {
    "collapsed": false
   }
  },
  {
   "cell_type": "markdown",
   "source": [
    "Ja. P ligt dan onder M"
   ],
   "metadata": {
    "collapsed": false,
    "pycharm": {
     "name": "#%% md\n"
    }
   }
  },
  {
   "cell_type": "markdown",
   "source": [
    "**Opdracht 3**\n",
    "\n",
    "Welke invloed heeft een toename in d op m en θ, en welke invloed heeft een afname? En welk effect heeft een toename/afname in m op d en θ en een toename/afname in θ op m en d?"
   ],
   "metadata": {
    "collapsed": false
   }
  },
  {
   "cell_type": "markdown",
   "source": [
    "- Een toename in d veroorzaakt alleen een afname in $\\theta$.\n",
    "- Een toename in m veroorzaakt alleen een toename in $\\theta$.\n",
    "- Een toename in $\\theta$ veroorzaakt niks, maar in het algemeen neemt m toe of d af."
   ],
   "metadata": {
    "collapsed": false,
    "pycharm": {
     "name": "#%% md\n"
    }
   }
  },
  {
   "cell_type": "markdown",
   "source": [
    "**Opdracht 4**\n",
    "\n",
    "In Fig. 20.7 is de richting van de eerste orde buiging van licht met één bepaalde golflengte getekend. Geef de vergelijking voor de hoek voor een volgende orde grootte. Geef van elk van de variabelen in de vergelijking aan of ze constant zijn of niet. Gebruik vgl. (20.1)."
   ],
   "metadata": {
    "collapsed": false
   }
  },
  {
   "cell_type": "markdown",
   "source": [
    "$$\n",
    "\\theta = \\arcsin \\frac{2\\lambda}{d}\n",
    "$$\n",
    "\n",
    "- $\\lambda$: constant\n",
    "- $d$: constant"
   ],
   "metadata": {
    "collapsed": false,
    "pycharm": {
     "name": "#%% md\n"
    }
   }
  },
  {
   "cell_type": "markdown",
   "source": [
    "**Opdracht 5**\n",
    "\n",
    "m kan ook negatief zijn. Wat zegt dit over de relatie tussen de hoeken i en $u_m$?"
   ],
   "metadata": {
    "collapsed": false
   }
  },
  {
   "cell_type": "markdown",
   "source": [
    "Als i stijgt, stijgt $u_m$. Als i daalt, daalt $u_m$"
   ],
   "metadata": {
    "collapsed": false,
    "pycharm": {
     "name": "#%% md\n"
    }
   }
  },
  {
   "cell_type": "markdown",
   "source": [
    "**Opdracht 6**\n",
    "\n",
    "Wanneer wordt vgl. (20.2) gelijk aan vgl. (20.1)?"
   ],
   "metadata": {
    "collapsed": false
   }
  },
  {
   "cell_type": "markdown",
   "source": [
    "Als $i=0$"
   ],
   "metadata": {
    "collapsed": false,
    "pycharm": {
     "name": "#%% md\n"
    }
   }
  },
  {
   "cell_type": "markdown",
   "source": [
    "**Opdracht 7**\n",
    "\n",
    "Laat zien dat als je vgl. (20.3) invult in de tralievergelijking (20.2) dat je dan de volgende voorwaarde krijgt voor licht met de golflengte λ op het vaste punt terecht komt.\n",
    "$$\n",
    "2 \\cos α \\sin φ = −mNλ\n",
    "$$\n",
    "waarin het N het aantal lijnen per lengte eenheid is, λ de golflengte en m orde van de buiging. m kan positieve en negatieve waarden (en nul) aannemen."
   ],
   "metadata": {
    "collapsed": false
   }
  },
  {
   "cell_type": "markdown",
   "source": [
    "Neem $i=\\alpha+\\varphi$, $u_m=\\alpha-\\varphi$. Laat $N=d^{-1}$. Dan\n",
    "\n",
    "$$\n",
    "\\begin{aligned}\n",
    "d \\sin u_m &= d \\sin i + m\\lambda\\\\\n",
    "d \\sin (\\alpha-\\varphi) &= d \\sin (\\alpha+\\varphi) + m\\lambda\\\\\n",
    "d (\\sin\\alpha \\cos-\\varphi + \\cos\\alpha \\sin-\\varphi) &= d (\\sin\\alpha \\cos\\varphi + \\cos\\alpha \\sin\\varphi) + m\\lambda\\\\\n",
    "d \\sin\\alpha \\cos\\varphi - d \\cos\\alpha \\sin\\varphi &= d \\sin\\alpha \\cos\\varphi + d \\cos\\alpha \\sin\\varphi + m\\lambda\\\\\n",
    "-d \\cos\\alpha \\sin\\varphi &= d \\cos\\alpha \\sin\\varphi + m\\lambda\\\\\n",
    "2d \\cos\\alpha \\sin\\varphi &= -m\\lambda\\\\\n",
    "2 \\cos\\alpha \\sin\\varphi &= -md^{-1}\\lambda\\\\\n",
    "2 \\cos\\alpha \\sin\\varphi &= -mN\\lambda\\\\\n",
    "\\end{aligned}\n",
    "$$"
   ],
   "metadata": {
    "collapsed": false,
    "pycharm": {
     "name": "#%% md\n"
    }
   }
  },
  {
   "cell_type": "markdown",
   "source": [
    "**Opdracht 8**\n",
    "\n",
    "Voor de situatie geschetst in Fig. 20.11, is m dan positief of negatief? Klopt dat met je antwoord bij vraag 5?"
   ],
   "metadata": {
    "collapsed": false
   }
  },
  {
   "cell_type": "markdown",
   "source": [
    "Sinds $0<\\alpha<\\pi/2$ en $0<\\varphi<\\pi/2$, $2\\cos\\alpha\\sin\\varphi>0$. Sinds $N>0$ en $\\lambda>0$, $-m>0$ en $m<0$."
   ],
   "metadata": {
    "collapsed": false,
    "pycharm": {
     "name": "#%% md\n"
    }
   }
  },
  {
   "cell_type": "markdown",
   "source": [
    "**Opdracht 9**\n",
    "\n",
    "Met vgl. (20.4) kunnen we uit metingen van α en φ, λ bepalen. Als we de onzekerheden in α en φ, u(α) en u(φ) noemen, leid dan de doorwerkingsformule voor de onzekerheid in λ , u(λ) af."
   ],
   "metadata": {
    "collapsed": false
   }
  },
  {
   "cell_type": "markdown",
   "source": [
    "$$\n",
    "\\begin{aligned}\n",
    "-mN\\lambda &= 2 \\cos\\alpha \\sin\\varphi\\\\\n",
    "\\lambda &= -\\frac{2 \\cos\\alpha \\sin\\varphi}{mN}\\\\\n",
    "u(\\lambda) &= 2 \\cdot \\sqrt{\n",
    "    \\left(\n",
    "        \\frac{u(\\cos\\alpha) \\sin\\varphi}{mN}\n",
    "    \\right)^2 +\n",
    "    \\left(\n",
    "        \\frac{\\cos\\alpha\\ u(\\sin\\varphi)}{mN}\n",
    "    \\right)^2 +\n",
    "    \\left(\n",
    "         \\frac{\\cos\\alpha \\sin\\varphi}{m} \\cdot u\\left(\\tfrac{1}{N}\\right)\n",
    "    \\right)^2\n",
    "} \\\\\n",
    "u(\\cos\\alpha) &= | u(\\alpha) \\cdot -\\sin\\alpha | = | u(\\alpha) \\cdot \\sin\\alpha | \\\\\n",
    "u(\\sin\\varphi) &= | u(\\varphi) \\cdot \\cos\\varphi | \\\\\n",
    "u\\left(\\tfrac{1}{N}\\right) &= \\left| u(N) \\cdot -\\tfrac{1}{N^2} \\right| \\\\\n",
    "\\end{aligned}\n",
    "$$"
   ],
   "metadata": {
    "collapsed": false,
    "pycharm": {
     "name": "#%% md\n"
    }
   }
  },
  {
   "cell_type": "markdown",
   "source": [
    "**Opdracht 10**\n",
    "\n",
    "Met vgl. (20.5) kan uit metingen van u en ∆u, ∆λ bepaald worden. Je wilt natuurlijk de onzekerheid in ∆λ weten. Als je op de gebruikelijke manier de doorwerkingformule gaat uitrekenen, stuit je op een notatieprobleem. Noem daarom in deze vraag de uitgaande hoek v (was u) en het kleine verschil in uitgaande hoek ∆v (was ∆u). Als we de onzekerheden in v en ∆v aangeven met u(v) en u(∆v), leid dan de doorwerkingsformule voor de onzekerheid in ∆λ, u(∆λ) af."
   ],
   "metadata": {
    "collapsed": false
   }
  },
  {
   "cell_type": "markdown",
   "source": [
    "$$\n",
    "\\begin{aligned}\n",
    "\\Delta\\lambda &= \\frac{\\cos v}{mN} \\Delta v \\\\\n",
    "u(\\Delta\\lambda) &= \\sqrt{\n",
    "    \\left(\n",
    "        \\frac{\\Delta v}{mN} u(\\cos v)\n",
    "    \\right)^2 +\n",
    "    \\left(\n",
    "        \\frac{\\cos v\\Delta v}{m} u\\left(\\tfrac{1}{N}\\right)\n",
    "    \\right)^2 +\n",
    "    \\left(\n",
    "        \\frac{\\cos v}{mN} u(\\Delta v)\n",
    "    \\right)^2\n",
    "} \\\\\n",
    "u(\\cos v) &= \\left| u(v) \\cdot -\\sin v \\right| = \\left| u(v) \\cdot \\sin v \\right| \\\\\n",
    "u\\left(\\tfrac{1}{N}\\right) &= \\left| u(N) \\cdot -\\tfrac{1}{N^2} \\right| \\\\\n",
    "\\end{aligned}\n",
    "$$"
   ],
   "metadata": {
    "collapsed": false,
    "pycharm": {
     "name": "#%% md\n"
    }
   }
  },
  {
   "cell_type": "markdown",
   "source": [
    "**Opdracht 11**\n",
    "\n",
    "Bedenk tenminste twee redenen waarom in de praktijk het waargenomen oplossend vermogen kleiner is dan de theoretische waarde."
   ],
   "metadata": {
    "collapsed": false
   }
  },
  {
   "cell_type": "markdown",
   "source": [
    "Bij een kleiner oplossend vermogen is het minimale golflengteverschil groter. Een kleiner oplossend vermogen betekent dus dat het moeilijker is om golflengtes van elkaar te scheiden. Dit kan komen (**kan niet uit de formule worden gelezen, dus ik weet niet echt of dit klopt**) door de aanwezigheid van andere bronnen, die de waarnemingen van de camera beïnvloeden. Daarnaast kan de bron meerdere golflengtes uitzenden waardoor het \"signaal\" verstoord raakt. De gevoeligheid van de camera kan ook een factor zijn."
   ],
   "metadata": {
    "collapsed": false,
    "pycharm": {
     "name": "#%% md\n"
    }
   }
  },
  {
   "cell_type": "markdown",
   "metadata": {},
   "source": [
    "**Method:**  \n",
    "**Theory:**  \n",
    "**Independent variable:**  \n",
    "**Dependent variable:**  \n",
    "**Controlled variablen:**  \n",
    "**Measurement instruments \\& Settings:**  \n",
    "**Procedure:**  \n",
    "**Setup(drawing or picture):**  \n",
    "**Notes:**  \n",
    "**About accuracy:**  \n"
   ]
  },
  {
   "cell_type": "markdown",
   "metadata": {},
   "source": [
    "# Execution"
   ]
  },
  {
   "cell_type": "markdown",
   "source": [
    "**Constants**"
   ],
   "metadata": {
    "collapsed": false
   }
  },
  {
   "cell_type": "code",
   "source": [
    "# Constants\n",
    "\n",
    "# Tralieconstante\n",
    "N = 600e3 # m^-1\n",
    "u_N = 0 # m^-1\n",
    "\n",
    "# Hoek van de 0-de orde stand\n",
    "alpha = np.deg2rad(15)\n",
    "u_alpha = np.deg2rad(1)\n",
    "\n",
    "# Lengte van een pixel in de sensor\n",
    "L_pixel = 3.6e-6 # m\n",
    "\n",
    "# Alpha tijdens het tweede deel van het experiment\n",
    "alpha2 = np.deg2rad(13)\n",
    "u_alpha2 = np.deg2rad(1)\n",
    "\n",
    "# Focal lengte\n",
    "f_2 = 20e-2 # m\n",
    "u_f_2 = 1e-2 # m"
   ],
   "metadata": {
    "collapsed": false,
    "pycharm": {
     "name": "#%%\n"
    }
   },
   "execution_count": 17,
   "outputs": []
  },
  {
   "cell_type": "markdown",
   "source": [
    "**Measurements**"
   ],
   "metadata": {
    "collapsed": false,
    "pycharm": {
     "name": "#%% md\n"
    }
   }
  },
  {
   "cell_type": "code",
   "execution_count": 18,
   "metadata": {},
   "outputs": [],
   "source": [
    "# Measurements: Explain the names of variables provide only raw data in np.arrays!\n",
    "\n",
    "# Format: Kleur, Orde, Aflezing (°), Fout (°)\n",
    "dataset1 = [\n",
    "    [YELLOW,    1,  3,  1],\n",
    "    [GREEN,     1,  4,  1],\n",
    "    [BLUE,      1,  6,  1],\n",
    "    [BLUE,      -1, 23, 1],\n",
    "    [GREEN,     -1, 25, 1],\n",
    "    [YELLOW,    -1, 26, 1],\n",
    "    [BLUE,      -2, 31, 1],\n",
    "    [GREEN,     -2, 35, 1],\n",
    "    [YELLOW,    -2, 37, 1],\n",
    "    [BLUE,      -3, 40, 1],\n",
    "    [GREEN,     -3, 46, 1],\n",
    "    [YELLOW,    -3, 48, 1],\n",
    "]\n",
    "\n",
    "# Format: Orde, Aflezing (°), Fout (°), Pixels (px), Fout in pixels (px)\n",
    "# Kleur is geel\n",
    "dataset2 = [\n",
    "    [-1, 23.5, 1, 82,  1],\n",
    "    [-2, 34.0, 1, 154, 1],\n",
    "    [-3, 46.0, 1, 230, 1],\n",
    "    [-4, 59.0, 1, 360, 1],\n",
    "]"
   ]
  },
  {
   "cell_type": "markdown",
   "source": [
    "Relocate measurements"
   ],
   "metadata": {
    "collapsed": false
   }
  },
  {
   "cell_type": "code",
   "execution_count": 19,
   "outputs": [],
   "source": [
    "# Dataset 1\n",
    "\n",
    "# Kleuren licht\n",
    "color = np.array([entry[0] for entry in dataset1])\n",
    "\n",
    "# Orde\n",
    "m = np.array([float(entry[1]) for entry in dataset1])\n",
    "\n",
    "# Aflezing in graden\n",
    "theta = np.deg2rad([entry[2] for entry in dataset1])\n",
    "u_theta = np.deg2rad([entry[3] for entry in dataset1])\n",
    "\n",
    "# Dataset 2\n",
    "m2 = np.array([float(entry[0]) for entry in dataset2])\n",
    "\n",
    "# Hoek van uitval op de camera\n",
    "theta2 = np.deg2rad([float(entry[1]) for entry in dataset2])\n",
    "u_theta2 = np.deg2rad([float(entry[2]) for entry in dataset2])\n",
    "\n",
    "# Verschil in hoek van uitval op de camera\n",
    "s_px = np.array([float(entry[3]) for entry in dataset2])\n",
    "u_s_px = np.array([float(entry[4]) for entry in dataset2])"
   ],
   "metadata": {
    "collapsed": false,
    "pycharm": {
     "name": "#%%\n"
    }
   }
  },
  {
   "cell_type": "markdown",
   "metadata": {},
   "source": [
    "**Observations:**  \n",
    "\n",
    "Onze lichtbron malfunctioneerde, waardoor er twee maxima ontstonden. Door de lens schuin te draaien, vielen de maxima op elkaar, waardoor er een betere straal ontstond, maar de camera kon deze niet goed waarnemen.\n",
    "\n",
    "**Notes:**\n",
    "\n",
    "Het toestel waarmee de hoeken in dit experiment werden gemeten had een schaal van 2 graden.\n",
    "\n",
    "Voor het camera deel van het experiment hebben we de gegevens van een andere groep gebruikt.\n"
   ]
  },
  {
   "cell_type": "markdown",
   "metadata": {},
   "source": [
    "# Processing\n",
    "**Description of processing of raw data into scientific evidence:**\n"
   ]
  },
  {
   "cell_type": "code",
   "execution_count": 20,
   "metadata": {},
   "outputs": [
    {
     "name": "stdout",
     "output_type": "stream",
     "text": [
      "𝜑 = \n",
      "[-0.20943951 -0.19198622 -0.15707963  0.13962634  0.17453293  0.19198622\n",
      "  0.27925268  0.34906585  0.38397244  0.43633231  0.54105207  0.57595865]\n",
      "u(𝜑) = \n",
      "[0.02468268 0.02468268 0.02468268 0.02468268 0.02468268 0.02468268\n",
      " 0.02468268 0.02468268 0.02468268 0.02468268 0.02468268 0.02468268]\n",
      "\n",
      "cos(𝛼) = 0.9659258262890683\n",
      "u(cos(𝛼)) = 0.004517244503906692\n",
      "\n",
      "sin(𝜑) = \n",
      "[-0.20791169 -0.190809   -0.15643447  0.1391731   0.17364818  0.190809\n",
      "  0.27563736  0.34202014  0.37460659  0.42261826  0.51503807  0.54463904]\n",
      "u(sin(𝜑)) = \n",
      "[0.02414331 0.02422919 0.0243788  0.02444247 0.0243077  0.02422919\n",
      " 0.02372652 0.02319414 0.02288539 0.02237011 0.02115719 0.02070064]\n",
      "\n",
      "𝜆 = \n",
      "[6.69424239e-07 6.14357788e-07 5.03680300e-07 4.48102975e-07\n",
      " 5.59104198e-07 6.14357788e-07 4.43742068e-07 5.50610149e-07\n",
      " 6.03070305e-07 4.53575437e-07 5.52765087e-07 5.84534344e-07]\n",
      "u(𝜆) = \n",
      "[7.77984937e-08 7.80648984e-08 7.85290378e-08 7.87266151e-08\n",
      " 7.83084406e-08 7.80648984e-08 3.82530910e-08 3.74283714e-08\n",
      " 3.69504313e-08 2.41022608e-08 2.28536456e-08 2.23845251e-08]\n",
      "\n"
     ]
    }
   ],
   "source": [
    "# Berekening van de golflengte van de stralen\n",
    "\n",
    "phi = theta - alpha # rad\n",
    "u_phi = np.sqrt(u_theta**2 + u_alpha**2) # rad\n",
    "print(f'𝜑 = \\n{phi}')\n",
    "print(f'u(𝜑) = \\n{u_phi}')\n",
    "print()\n",
    "\n",
    "# Er worden \"tussenvariabelen\" gebruikt voor een betere leesbaarheid\n",
    "\n",
    "cos_alpha = np.cos(alpha)\n",
    "u_cos_alpha = np.abs(u_alpha * np.sin(alpha))\n",
    "print(f'cos(𝛼) = {cos_alpha}')\n",
    "print(f'u(cos(𝛼)) = {u_cos_alpha}')\n",
    "print()\n",
    "\n",
    "sin_phi = np.sin(phi)\n",
    "u_sin_phi = np.abs(u_phi * np.cos(phi))\n",
    "print(f'sin(𝜑) = \\n{sin_phi}')\n",
    "print(f'u(sin(𝜑)) = \\n{u_sin_phi}')\n",
    "print()\n",
    "\n",
    "N_inv = 1/N # m^-1\n",
    "u_N_inv = np.abs(-1*N**-2 * u_N) # m^-1\n",
    "\n",
    "# Hier wordt de golflengte berekend uit de tussenvariabelen\n",
    "\n",
    "wavelength = -2 * np.cos(alpha) * np.sin(phi) / (m * N) # m\n",
    "u_wavelength = 2 * np.sqrt(\n",
    "    (u_cos_alpha * sin_phi * N_inv / m)**2 +\n",
    "    (cos_alpha * u_sin_phi * N_inv / m)**2 +\n",
    "    (cos_alpha * sin_phi * u_N_inv / m)**2\n",
    ") # m\n",
    "print(f'𝜆 = \\n{wavelength}')\n",
    "print(f'u(𝜆) = \\n{u_wavelength}')\n",
    "print()\n",
    "\n",
    "# print()\n",
    "# print(u_cos_alpha * sin_phi * N_inv / m)\n",
    "# print(cos_alpha * u_sin_phi * N_inv / m)\n",
    "# print(cos_alpha * sin_phi * u_N_inv / m)"
   ]
  },
  {
   "cell_type": "code",
   "execution_count": 21,
   "metadata": {},
   "outputs": [
    {
     "name": "stderr",
     "output_type": "stream",
     "text": [
      "The PostScript backend does not support transparency; partially transparent artists will be rendered opaque.\n"
     ]
    },
    {
     "data": {
      "text/plain": "<Figure size 432x288 with 1 Axes>",
      "image/png": "[encoded data removed]"
     },
     "metadata": {
      "needs_background": "light"
     },
     "output_type": "display_data"
    },
    {
     "name": "stderr",
     "output_type": "stream",
     "text": [
      "The PostScript backend does not support transparency; partially transparent artists will be rendered opaque.\n"
     ]
    },
    {
     "data": {
      "text/plain": "<Figure size 432x288 with 1 Axes>",
      "image/png": "[encoded data removed]"
     },
     "metadata": {
      "needs_background": "light"
     },
     "output_type": "display_data"
    },
    {
     "name": "stderr",
     "output_type": "stream",
     "text": [
      "The PostScript backend does not support transparency; partially transparent artists will be rendered opaque.\n"
     ]
    },
    {
     "data": {
      "text/plain": "<Figure size 432x288 with 1 Axes>",
      "image/png": "[encoded data removed]"
     },
     "metadata": {
      "needs_background": "light"
     },
     "output_type": "display_data"
    },
    {
     "name": "stderr",
     "output_type": "stream",
     "text": [
      "The PostScript backend does not support transparency; partially transparent artists will be rendered opaque.\n"
     ]
    },
    {
     "data": {
      "text/plain": "<Figure size 432x288 with 1 Axes>",
      "image/png": "[encoded data removed]"
     },
     "metadata": {
      "needs_background": "light"
     },
     "output_type": "display_data"
    },
    {
     "name": "stderr",
     "output_type": "stream",
     "text": [
      "The PostScript backend does not support transparency; partially transparent artists will be rendered opaque.\n"
     ]
    },
    {
     "data": {
      "text/plain": "<Figure size 432x288 with 1 Axes>",
      "image/png": "[encoded data removed]"
     },
     "metadata": {
      "needs_background": "light"
     },
     "output_type": "display_data"
    },
    {
     "name": "stderr",
     "output_type": "stream",
     "text": [
      "The PostScript backend does not support transparency; partially transparent artists will be rendered opaque.\n"
     ]
    },
    {
     "data": {
      "text/plain": "<Figure size 432x288 with 1 Axes>",
      "image/png": "[encoded data removed]"
     },
     "metadata": {
      "needs_background": "light"
     },
     "output_type": "display_data"
    },
    {
     "name": "stderr",
     "output_type": "stream",
     "text": [
      "The PostScript backend does not support transparency; partially transparent artists will be rendered opaque.\n"
     ]
    },
    {
     "data": {
      "text/plain": "<Figure size 432x288 with 1 Axes>",
      "image/png": "[encoded data removed]"
     },
     "metadata": {
      "needs_background": "light"
     },
     "output_type": "display_data"
    },
    {
     "name": "stderr",
     "output_type": "stream",
     "text": [
      "The PostScript backend does not support transparency; partially transparent artists will be rendered opaque.\n"
     ]
    },
    {
     "data": {
      "text/plain": "<Figure size 432x288 with 1 Axes>",
      "image/png": "[encoded data removed]"
     },
     "metadata": {
      "needs_background": "light"
     },
     "output_type": "display_data"
    },
    {
     "name": "stderr",
     "output_type": "stream",
     "text": [
      "The PostScript backend does not support transparency; partially transparent artists will be rendered opaque.\n"
     ]
    },
    {
     "data": {
      "text/plain": "<Figure size 432x288 with 1 Axes>",
      "image/png": "[encoded data removed]"
     },
     "metadata": {
      "needs_background": "light"
     },
     "output_type": "display_data"
    },
    {
     "name": "stderr",
     "output_type": "stream",
     "text": [
      "The PostScript backend does not support transparency; partially transparent artists will be rendered opaque.\n"
     ]
    },
    {
     "data": {
      "text/plain": "<Figure size 432x288 with 1 Axes>",
      "image/png": "[encoded data removed]"
     },
     "metadata": {
      "needs_background": "light"
     },
     "output_type": "display_data"
    }
   ],
   "source": [
    "# We tekenen hier het eerste grafiek, namelijk die van de golflentes\n",
    "# Deze wordt aangeduid met `plot1`\n",
    "\n",
    "# Deze functie geeft een iterator over de plotdata, namelijk de kleur, orde en golflengtes in nm\n",
    "def get_color_plot1_data_iter():\n",
    "    return zip(color, m, wavelength * 1e9, u_wavelength * 1e9)\n",
    "\n",
    "# Filtreert de data per opgegeven kleur\n",
    "# Format: array van [orde, golflengte, onzekerheid golflengte]\n",
    "def filter_plot1_data_by_color(filter_color):\n",
    "    return np.array([[*dat] for (c, *dat) in get_color_plot1_data_iter() if c == filter_color])\n",
    "\n",
    "# Hier cachen we de data\n",
    "plot1_data_yellow = filter_plot1_data_by_color(YELLOW)\n",
    "plot1_data_green  = filter_plot1_data_by_color(GREEN)\n",
    "plot1_data_blue   = filter_plot1_data_by_color(BLUE)\n",
    "\n",
    "# Plot datapunten in de grafiek\n",
    "def plot1_dots(plt_data, label, color, **kwargs):\n",
    "    plt.plot(\n",
    "        plt_data[:,0],\n",
    "        plt_data[:,1],\n",
    "        '.',\n",
    "        label=label,\n",
    "        color=color,\n",
    "        markersize=12,\n",
    "    )\n",
    "\n",
    "# Plot data als errorbars in de grafiek\n",
    "def plot1_errorbar(plt_data, label, color, **kwargs):\n",
    "    eb = plt.errorbar(\n",
    "        plt_data[:,0],\n",
    "        plt_data[:,1],\n",
    "        yerr=plt_data[:,2],\n",
    "        label=label,\n",
    "        color=color,\n",
    "        fmt='.',\n",
    "        markersize=12,\n",
    "        capsize=10,\n",
    "        capthick=2,\n",
    "        solid_capstyle='projecting',\n",
    "        **kwargs,\n",
    "    )\n",
    "    bars = eb[2]\n",
    "    for bar in bars:\n",
    "        bar.set_alpha(0.9)\n",
    "    return eb\n",
    "\n",
    "# Plot de eerste grafiek\n",
    "def plot1(errorbar=True, colors=None, spectral_lines=False):\n",
    "    if colors is None:\n",
    "        colors = [YELLOW, GREEN, BLUE]\n",
    "    plt.figure(figsize=DEFAULT_FIGSIZE)\n",
    "\n",
    "    plt.xticks(np.arange(m.min(), m.max() + 1))\n",
    "\n",
    "    def plot_series(*args, **kwargs):\n",
    "        if errorbar:\n",
    "            plot1_errorbar(*args, **kwargs)\n",
    "        else:\n",
    "            plot1_dots(*args, **kwargs)\n",
    "\n",
    "    if YELLOW in colors:\n",
    "        plot_series(plot1_data_yellow, 'Geel', 'tab:olive')\n",
    "\n",
    "    if GREEN in colors:\n",
    "        plot_series(plot1_data_green, 'Groen', 'tab:green')\n",
    "\n",
    "    if BLUE in colors:\n",
    "        plot_series(plot1_data_blue, 'Blauw', 'tab:blue')\n",
    "\n",
    "    if spectral_lines:\n",
    "        axhline_style = { 'linewidth': 3, 'linestyle': 'dashed' }\n",
    "        if YELLOW in colors:\n",
    "            plt.axhline(578.1, m.min(), m.max(), color='tab:olive', **axhline_style)\n",
    "        if GREEN in colors:\n",
    "            plt.axhline(546.1, m.min(), m.max(), color='tab:green', **axhline_style)\n",
    "        if BLUE in colors:\n",
    "            plt.axhline(435.8, m.min(), m.max(), color='tab:blue', **axhline_style)\n",
    "\n",
    "    plt.xlabel('Orde')\n",
    "    plt.ylabel('Golflengte (nm)')\n",
    "\n",
    "    plt.legend()\n",
    "\n",
    "    save_fig(f'''Plot colors {\n",
    "        ','.join(colors)\n",
    "    }{\n",
    "        ' with error bars' if errorbar else ''\n",
    "    }{\n",
    "        ' with trend' if spectral_lines else ''\n",
    "    }''')\n",
    "\n",
    "    plt.show()\n",
    "\n",
    "# Plot een variateit aan grafieken\n",
    "for sl in [False, True]:\n",
    "    plot1(errorbar=False, spectral_lines=sl)\n",
    "    plot1(colors=[YELLOW], spectral_lines=sl)\n",
    "    plot1(colors=[GREEN], spectral_lines=sl)\n",
    "    plot1(colors=[BLUE], spectral_lines=sl)\n",
    "    plot1(spectral_lines=sl)\n"
   ]
  },
  {
   "cell_type": "markdown",
   "source": [
    "**Notes:**\n",
    "\n",
    "- Des te verder de orde van 0 ligt, des te kleiner de onzekerheid.\n",
    "- De positieve orde heeft een veel hogere afwijking t.o.v. de theoretische waarde vergeleken met die van de negatieve ordes.\n",
    "- Alle punten liggen in het algemeen boven de theoretische waarde"
   ],
   "metadata": {
    "collapsed": false
   }
  },
  {
   "cell_type": "code",
   "execution_count": 22,
   "metadata": {},
   "outputs": [
    {
     "name": "stdout",
     "output_type": "stream",
     "text": [
      "𝜆_yellow = \n",
      "[6.69424239e-07 6.14357788e-07 6.03070305e-07 5.84534344e-07]\n",
      "u(𝜆_yellow) = \n",
      "[7.77984937e-08 7.80648984e-08 3.69504313e-08 2.23845251e-08]\n",
      "\n",
      "𝜆_green = \n",
      "[6.14357788e-07 5.59104198e-07 5.50610149e-07 5.52765087e-07]\n",
      "u(𝜆_green) = \n",
      "[7.80648984e-08 7.83084406e-08 3.74283714e-08 2.28536456e-08]\n",
      "\n",
      "𝜆_blue = \n",
      "[5.03680300e-07 4.48102975e-07 4.43742068e-07 4.53575437e-07]\n",
      "u(𝜆_blue) = \n",
      "[7.85290378e-08 7.87266151e-08 3.82530910e-08 2.41022608e-08]\n",
      "\n",
      "avg(𝜆_yellow) = 5.951624937327675e-07\n",
      "u(avg(𝜆_yellow)) = 1.8085007091954716e-08\n",
      "\n",
      "avg(𝜆_green) = 5.56013902829556e-07\n",
      "u(avg(𝜆_green)) = 1.8393887790907237e-08\n",
      "\n",
      "avg(𝜆_blue) = 4.5376675303451674e-07\n",
      "u(avg(𝜆_blue)) = 1.9144930928112147e-08\n",
      "\n"
     ]
    }
   ],
   "source": [
    "# Bereken het antwoord op onze vraag\n",
    "\n",
    "# Theoretische golflengtes van spectraallijnen van kwik\n",
    "\n",
    "real_yellow_wl = 578.1e-9 # m\n",
    "u_real_yellow_wl = 1e-9 # m\n",
    "\n",
    "real_green_wl = 546.1e-9 # m\n",
    "u_real_green_wl = 0 # m\n",
    "\n",
    "real_blue_wl = 435.8e-9 # m\n",
    "u_real_blue_wl = 0 # m\n",
    "\n",
    "# Ordenen van golflengtes op spectraallijn\n",
    "\n",
    "def filter_by_color(x, filter_color):\n",
    "    return np.array([e for (c, e) in zip(color, x) if c == filter_color])\n",
    "\n",
    "yellow_wl = filter_by_color(wavelength, YELLOW) # m\n",
    "u_yellow_wl = filter_by_color(u_wavelength, YELLOW) # m\n",
    "print(f'𝜆_yellow = \\n{yellow_wl}')\n",
    "print(f'u(𝜆_yellow) = \\n{u_yellow_wl}')\n",
    "print()\n",
    "\n",
    "green_wl = filter_by_color(wavelength, GREEN) # m\n",
    "u_green_wl = filter_by_color(u_wavelength, GREEN) # m\n",
    "print(f'𝜆_green = \\n{green_wl}')\n",
    "print(f'u(𝜆_green) = \\n{u_green_wl}')\n",
    "print()\n",
    "\n",
    "blue_wl = filter_by_color(wavelength, BLUE) # m\n",
    "u_blue_wl = filter_by_color(u_wavelength, BLUE) # m\n",
    "print(f'𝜆_blue = \\n{blue_wl}')\n",
    "print(f'u(𝜆_blue) = \\n{u_blue_wl}')\n",
    "print()\n",
    "\n",
    "# Berekenen van de gemiddeldes\n",
    "\n",
    "avg_yellow_wl = np.average(yellow_wl, weights=1 / u_yellow_wl ** 2) # m\n",
    "u_avg_yellow_wl = math.sqrt(1 / np.sum(1 / u_yellow_wl ** 2)) # m\n",
    "print(f'avg(𝜆_yellow) = {avg_yellow_wl}')\n",
    "print(f'u(avg(𝜆_yellow)) = {u_avg_yellow_wl}')\n",
    "print()\n",
    "\n",
    "avg_green_wl = np.average(green_wl, weights=1 / u_green_wl ** 2) # m\n",
    "u_avg_green_wl = math.sqrt(1 / np.sum(1 / u_green_wl ** 2)) # m\n",
    "print(f'avg(𝜆_green) = {avg_green_wl}')\n",
    "print(f'u(avg(𝜆_green)) = {u_avg_green_wl}')\n",
    "print()\n",
    "\n",
    "avg_blue_wl = np.average(blue_wl, weights=1 / u_blue_wl ** 2) # m\n",
    "u_avg_blue_wl = math.sqrt(1 / np.sum(1 / u_blue_wl ** 2)) # m\n",
    "print(f'avg(𝜆_blue) = {avg_blue_wl}')\n",
    "print(f'u(avg(𝜆_blue)) = {u_avg_blue_wl}')\n",
    "print()"
   ]
  },
  {
   "cell_type": "code",
   "execution_count": 23,
   "outputs": [
    {
     "name": "stdout",
     "output_type": "stream",
     "text": [
      "𝜑_2 = \n",
      "[0.18325957 0.36651914 0.57595865 0.80285146]\n",
      "u(𝜑_2) = \n",
      "[0.02468268 0.02468268 0.02468268 0.02468268]\n",
      "\n",
      "v = \n",
      "[ 0.04363323 -0.13962634 -0.34906585 -0.57595865]\n",
      "u(v) = \n",
      "[0.03022999 0.03022999 0.03022999 0.03022999]\n",
      "\n",
      "s = \n",
      "[0.0002952 0.0005544 0.000828  0.001296 ]\n",
      "u(s) = \n",
      "[3.6e-06 3.6e-06 3.6e-06 3.6e-06]\n",
      "\n",
      "1/f_2 = \n",
      "5.0\n",
      "u(1/f_2) = \n",
      "0.24999999999999997\n",
      "\n",
      "s/(2*f_2) = \n",
      "[0.000738 0.001386 0.00207  0.00324 ]\n",
      "u(s/(2*f_2)) = \n",
      "[3.79817061e-05 6.98819719e-05 1.03890567e-04 1.62249807e-04]\n",
      "\n",
      "∆v = \n",
      "[0.001476   0.002772   0.00413999 0.00647998]\n",
      "u(∆v) = \n",
      "[7.59633709e-05 1.39763675e-04 2.07780245e-04 3.24496208e-04]\n",
      "\n",
      "cos(v) = [0.99904822 0.99026807 0.93969262 0.83867057]\n",
      "u(cos(v)) = [0.00131861 0.0042072  0.01033927 0.01646443]\n",
      "\n",
      "∆𝜆_2 = [2.45765818e-09 2.28751777e-09 2.16128994e-09 2.26440261e-09]\n",
      "u(∆𝜆_2) = [1.26526705e-10 1.15744992e-10 1.11048061e-10 1.21796238e-10]\n",
      "\n",
      "avg(∆𝜆_2) = 2.2834335736847677e-09\n",
      "u(avg(∆𝜆_2)) = 5.917137102580428e-11\n",
      "\n"
     ]
    }
   ],
   "source": [
    "# Bereken de verschillen in golflengtes\n",
    "real_delta_wavelength2 = 2e-9 # m\n",
    "u_real_delta_wavelength2 = 0 # m\n",
    "\n",
    "phi2 = theta2 - alpha2 # rad\n",
    "u_phi2 = np.sqrt(u_theta2**2 + u_alpha2**2) # rad\n",
    "print(f'𝜑_2 = \\n{phi2}')\n",
    "print(f'u(𝜑_2) = \\n{u_phi2}')\n",
    "print()\n",
    "\n",
    "# De uitgaande hoek duiden we hier aan met v\n",
    "v = alpha2 - phi2 # rad\n",
    "u_v = np.sqrt(u_alpha2**2 + u_phi2**2) # rad\n",
    "print(f'v = \\n{v}')\n",
    "print(f'u(v) = \\n{u_v}')\n",
    "print()\n",
    "\n",
    "# Afstand tussen de twee maxima\n",
    "s = L_pixel * s_px # m\n",
    "u_s = L_pixel * u_s_px # m\n",
    "print(f's = \\n{s}')\n",
    "print(f'u(s) = \\n{u_s}')\n",
    "print()\n",
    "\n",
    "# Tussenvariabelen\n",
    "\n",
    "f_2_inv = 1/f_2 # m^-1\n",
    "u_f_2_inv = np.abs(-1/f_2**2 * u_f_2) # m^-1\n",
    "print(f'1/f_2 = \\n{f_2_inv}')\n",
    "print(f'u(1/f_2) = \\n{u_f_2_inv}')\n",
    "print()\n",
    "\n",
    "s_div_by_two_times_f2 = s / 2 * f_2_inv\n",
    "u_s_div_by_2_times_f2 = np.sqrt(\n",
    "    (s * u_f_2_inv)**2 +\n",
    "    (u_s * f_2_inv)**2\n",
    ") / 2\n",
    "print(f's/(2*f_2) = \\n{s_div_by_two_times_f2}')\n",
    "print(f'u(s/(2*f_2)) = \\n{u_s_div_by_2_times_f2}')\n",
    "print()\n",
    "\n",
    "# Bereken de hoek tussen de maxima\n",
    "\n",
    "dv = 2 * np.arctan(s_div_by_two_times_f2) # rad\n",
    "u_dv = 2 * np.abs(1 / (1 + s_div_by_two_times_f2 ** 2) * u_s_div_by_2_times_f2) # rad\n",
    "print(f'∆v = \\n{dv}')\n",
    "print(f'u(∆v) = \\n{u_dv}')\n",
    "print()\n",
    "\n",
    "# Tussenvariabel\n",
    "\n",
    "cos_v = np.cos(v)\n",
    "u_cos_v = np.abs(-np.sin(v) * u_v)\n",
    "print(f'cos(v) = {cos_v}')\n",
    "print(f'u(cos(v)) = {u_cos_v}')\n",
    "print()\n",
    "\n",
    "# Bereken het verschil in golflengte\n",
    "\n",
    "delta_wavelength2 = np.abs(cos_v * N_inv * dv / m2) # m\n",
    "u_delta_wavelength2 = np.sqrt(\n",
    "    (u_cos_v * N_inv * dv / m2)**2 +\n",
    "    (cos_v * u_N_inv * dv / m2)**2 +\n",
    "    (cos_v * N_inv * u_dv / m2)**2\n",
    ") # m\n",
    "print(f'∆𝜆_2 = {delta_wavelength2}')\n",
    "print(f'u(∆𝜆_2) = {u_delta_wavelength2}')\n",
    "print()\n",
    "\n",
    "avg_delta_wavelength2 = np.average(delta_wavelength2, weights=1 / u_delta_wavelength2 ** 2) # m\n",
    "u_avg_delta_wavelength2 = math.sqrt(1 / np.sum(1 / u_delta_wavelength2 ** 2)) # m\n",
    "print(f'avg(∆𝜆_2) = {avg_delta_wavelength2}')\n",
    "print(f'u(avg(∆𝜆_2)) = {u_avg_delta_wavelength2}')\n",
    "print()"
   ],
   "metadata": {
    "collapsed": false,
    "pycharm": {
     "name": "#%%\n"
    }
   }
  },
  {
   "cell_type": "code",
   "execution_count": 30,
   "outputs": [
    {
     "data": {
      "text/plain": "<Figure size 432x288 with 1 Axes>",
      "image/png": "[encoded data removed]"
     },
     "metadata": {
      "needs_background": "light"
     },
     "output_type": "display_data"
    }
   ],
   "source": [
    "delta_wavelength2_in_nm = delta_wavelength2 * 1e9\n",
    "u_delta_wavelength2_in_nm = u_delta_wavelength2 * 1e9\n",
    "\n",
    "plt.figure(figsize=DEFAULT_FIGSIZE)\n",
    "\n",
    "plt.xticks(np.arange(m2.min(), m2.max() + 1))\n",
    "\n",
    "plt.xlabel('Orde')\n",
    "plt.ylabel('Verschil in golflengte (nm)')\n",
    "\n",
    "plt.errorbar(\n",
    "    m2,\n",
    "    delta_wavelength2_in_nm,\n",
    "    yerr=u_delta_wavelength2_in_nm,\n",
    "    # label=\"label\",\n",
    "    color='k',\n",
    "    fmt='.',\n",
    "    markersize=12,\n",
    "    capsize=10,\n",
    "    capthick=2,\n",
    "    solid_capstyle='projecting',\n",
    ")\n",
    "\n",
    "save_fig(\"Plot wavelength difference\")\n",
    "\n",
    "plt.show()"
   ],
   "metadata": {
    "collapsed": false,
    "pycharm": {
     "name": "#%%\n"
    }
   }
  },
  {
   "cell_type": "markdown",
   "source": [
    "**Notes:**\n",
    "\n",
    "Het verschil in golflengte is voor elke orde groter dan 2nm"
   ],
   "metadata": {
    "collapsed": false
   }
  },
  {
   "cell_type": "code",
   "execution_count": 25,
   "outputs": [
    {
     "name": "stdout",
     "output_type": "stream",
     "text": [
      "cos(𝛼_2) = 0.9743700647852352\n",
      "u(cos(𝛼_2)) = 0.003926136554133137\n",
      "\n",
      "sin(𝜑_2) = \n",
      "[0.18223553 0.35836795 0.54463904 0.7193398 ]\n",
      "u(sin(𝜑_2)) = \n",
      "[0.02426937 0.02304327 0.02070064 0.01714603]\n",
      "\n",
      "𝜆_2 = \n",
      "[5.91882803e-07 5.81971670e-07 5.89644413e-07 5.84085973e-07]\n",
      "u(𝜆_2) = \n",
      "[7.88605609e-08 3.74945234e-08 2.25367935e-08 1.41196792e-08]\n",
      "\n",
      "1/∆𝜆_2 = \n",
      "[4.06891409e+08 4.37155073e+08 4.62686649e+08 4.41617580e+08]\n",
      "u(1/∆𝜆_2) = \n",
      "[20947839.64059964 22119395.60614259 23773050.59551141 23753443.61903287]\n",
      "\n",
      "R = \n",
      "[240.83202769 254.41186817 272.82059755 257.94263382]\n",
      "u(R) = \n",
      "[34.39980279 20.84161369 17.47073597 15.21087754]\n",
      "\n",
      "N_tot = \n",
      "[240.83202769 127.20593408  90.94019918  64.48565845]\n",
      "u(N_tot) = \n",
      "[34.39980279 10.42080684  5.82357866  3.80271938]\n",
      "\n",
      "avg(R) = 260.3767632734829\n",
      "u(avg(R)) = 9.646852607152004\n",
      "\n"
     ]
    }
   ],
   "source": [
    "# Berekenen van het oplossend vermogen\n",
    "\n",
    "# Tussenvariabelen voor de golflengte\n",
    "\n",
    "cos_alpha2 = np.cos(alpha2)\n",
    "u_cos_alpha2 = np.abs(u_alpha2 * np.sin(alpha2))\n",
    "print(f'cos(𝛼_2) = {cos_alpha2}')\n",
    "print(f'u(cos(𝛼_2)) = {u_cos_alpha2}')\n",
    "print()\n",
    "\n",
    "sin_phi2 = np.sin(phi2)\n",
    "u_sin_phi2 = np.abs(u_phi2 * np.cos(phi2))\n",
    "print(f'sin(𝜑_2) = \\n{sin_phi2}')\n",
    "print(f'u(sin(𝜑_2)) = \\n{u_sin_phi2}')\n",
    "print()\n",
    "\n",
    "# Bereken de golflengte\n",
    "\n",
    "wavelength2 = -2 * np.cos(alpha2) * np.sin(phi2) / (m2 * N) # m\n",
    "u_wavelength2 = 2 * np.sqrt(\n",
    "    (u_cos_alpha2 * sin_phi2 * N_inv / m2)**2 +\n",
    "    (cos_alpha2 * u_sin_phi2 * N_inv / m2)**2 +\n",
    "    (cos_alpha2 * sin_phi2 * u_N_inv / m2)**2\n",
    ") # m\n",
    "print(f'𝜆_2 = \\n{wavelength2}')\n",
    "print(f'u(𝜆_2) = \\n{u_wavelength2}')\n",
    "print()\n",
    "\n",
    "# Tussenvariabel\n",
    "\n",
    "delta_wavelength2_inv = 1/delta_wavelength2\n",
    "u_delta_wavelength2_inv = np.abs(-1/delta_wavelength2**2 * u_delta_wavelength2)\n",
    "print(f'1/∆𝜆_2 = \\n{delta_wavelength2_inv}')\n",
    "print(f'u(1/∆𝜆_2) = \\n{u_delta_wavelength2_inv}')\n",
    "print()\n",
    "\n",
    "# Bereken het oplossend vermogen\n",
    "\n",
    "R = wavelength2 * delta_wavelength2_inv\n",
    "u_R = np.sqrt(\n",
    "    (wavelength2 * u_delta_wavelength2_inv)**2 +\n",
    "    (u_wavelength2 * delta_wavelength2_inv)**2\n",
    ")\n",
    "print(f'R = \\n{R}')\n",
    "print(f'u(R) = \\n{u_R}')\n",
    "print()\n",
    "\n",
    "# Dit geldt in de theorie\n",
    "\n",
    "R_theory = R\n",
    "u_R_theory = u_R\n",
    "\n",
    "# Totaal aantal tralie lijnen dat meespeelt\n",
    "\n",
    "N_tot = np.abs(R_theory / m2)\n",
    "u_N_tot = np.abs(u_R_theory / m2)\n",
    "print(f'N_tot = \\n{N_tot}')\n",
    "print(f'u(N_tot) = \\n{u_N_tot}')\n",
    "print()\n",
    "\n",
    "# Gemiddeld oplossend vermogen\n",
    "\n",
    "avg_R = np.average(R, weights=1/u_R**2)\n",
    "u_avg_R = math.sqrt(1 / np.sum(1 / u_R**2))\n",
    "print(f'avg(R) = {avg_R}')\n",
    "print(f'u(avg(R)) = {u_avg_R}')\n",
    "print()"
   ],
   "metadata": {
    "collapsed": false,
    "pycharm": {
     "name": "#%%\n"
    }
   }
  },
  {
   "cell_type": "markdown",
   "source": [
    "**Notes:**\n",
    "\n",
    "Het oplossend vermogen is ongeveer 260. Dat betekent dat we met de opstelling een verschil in golflengte hebben gemeten dat ongeveer 260 keer zo klein is vergeleken met de golflengte zelf."
   ],
   "metadata": {
    "collapsed": false
   }
  },
  {
   "cell_type": "markdown",
   "metadata": {},
   "source": [
    "**Describing the pattern in the processed data:**  \n"
   ]
  },
  {
   "cell_type": "code",
   "execution_count": 25,
   "metadata": {},
   "outputs": [],
   "source": []
  },
  {
   "cell_type": "markdown",
   "metadata": {},
   "source": [
    "**Notes:**  "
   ]
  },
  {
   "cell_type": "markdown",
   "metadata": {},
   "source": [
    "# Discussion\n",
    "\n"
   ]
  },
  {
   "cell_type": "markdown",
   "source": [
    "### Experiment\n",
    "\n",
    "> Onze lichtbron malfunctioneerde, waardoor er twee maxima ontstonden. Door de lens schuin te draaien, vielen de maxima op elkaar, waardoor er een betere straal ontstond, maar de camera kon deze niet goed waarnemen.\n",
    "\n",
    "Voor een beter onderzoek hebben we betere materialen nodig. Dus een betere lichtbron en betere lenzen.\n",
    "\n",
    "> Het toestel waarmee de hoeken in dit experiment werden gemeten had een schaal van 2 graden.\n",
    "\n",
    "Daarom hebben we voor een onzekerheid van een graad gekozen. Verbeteren door een digitale hoek meter te gebruiken. Deze zou dan ook digitaal aangestuurd kunnen worden door een elektrische motor.\n",
    "\n",
    "> Voor het camera deel van het experiment hebben we de gegevens van een andere groep gebruikt.\n",
    "\n",
    "Idem (voor beter onderzoek, betere materialen zijn nodig). Voor een beter onderzoek kan alles gemeten worden met de camera.\n",
    "\n",
    "### Analyse plot 1\n",
    "\n",
    "> Des te verder de orde van 0 ligt, des te kleiner de onzekerheid.\n",
    "\n",
    "Vermoeden: De onzekerheid in de gemeten hoek is dan kleiner vergeleken met de hoek, denk bij hoek aan phi enz.\n",
    "\n",
    "> De positieve orde heeft een veel hogere afwijking t.o.v. de theoretische waarde vergeleken met die van de negatieve ordes.\n",
    "\n",
    "Vermoeden: Dit kan komen door een (*insert: naam voor een fout wanneer we vanuit een verkeerd punt zijn gaan meten*) of door een schuine lens.\n",
    "\n",
    "> Alle punten liggen in het algemeen boven de theoretische waarde\n",
    "\n",
    "Vermoeden: De oorzaak zit waarschijnlijk in dat we een van de variabelen te hoog of te laag hebben ingeschat\n",
    "\n",
    "### Analyse plot 2\n",
    "\n",
    "> Het verschil in golflengte is voor elke orde groter dan 2nm\n",
    "\n",
    "Vermoeden: Komt door een fout in de \"grootte\" van een pixel of door een fout in de afstand $f_2$.\n",
    "\n",
    "### Oplossend vermogen\n",
    "\n",
    "Geen opmerkingen.\n",
    "\n",
    "### Golflengte spectraallijnen\n",
    "\n",
    "Zie conclusie. Hoe kleiner de golflengte hoe hoger de absolute fout.\n",
    "\n",
    "Te doen: Oorzaak vinden\n",
    "\n",
    "### Verschil golflengte gele spectraallijn\n",
    "\n",
    "Zie conclusie. Relatieve fout is kleiner dan die van de golflengte zelf.\n",
    "\n",
    "Te doen: Oorzaak vinden\n",
    "\n",
    "\n",
    "### Overig\n",
    "\n",
    "Ons experiment heeft de golflengtes helemaal niet nauwkeurig gemeten. Er zijn verbeteringen nodig, zoals eerder besproken om het nauwkeurig te meten.\n",
    "\n",
    "Vermoeden: Hoogstwaarschijnlijk komt dit doordat ons materiaal toevallig niet fijn genoeg was. Het kan ook zo zijn dat we de fouten verkeerd hebben ingeschat.\n",
    "\n",
    "Te doen: Vergelijk nog de resultaten van ons met die van een ander groepje om het antwoord op de bovenstaande indirecte vraag te beantwoorden.\n"
   ],
   "metadata": {
    "collapsed": false
   }
  },
  {
   "cell_type": "markdown",
   "metadata": {},
   "source": [
    "# Conclusion"
   ]
  },
  {
   "cell_type": "code",
   "execution_count": 26,
   "metadata": {},
   "outputs": [
    {
     "name": "stdout",
     "output_type": "stream",
     "text": [
      "Golflengte van de gele spectraallijn:\n",
      "- Theoretisch: 578.1 ± 1.0 nm\n",
      "- Praktisch:   595.2 ± 18.1 nm\n",
      "- Rel. fout:   3.0%\n",
      "Komt overeen\n",
      "\n",
      "Golflengte van de groene spectraallijn:\n",
      "- Theoretisch: 546.1 ± 0.0 nm\n",
      "- Praktisch:   556.0 ± 18.4 nm\n",
      "- Rel. fout:   3.3%\n",
      "Komt overeen\n",
      "\n",
      "Golflengte van de blauwe spectraallijn:\n",
      "- Theoretisch: 435.8 ± 0.0 nm\n",
      "- Praktisch:   453.8 ± 19.1 nm\n",
      "- Rel. fout:   4.2%\n",
      "Komt overeen\n",
      "\n"
     ]
    }
   ],
   "source": [
    "# Doe een strijdigheidsanalyse\n",
    "\n",
    "def is_strijdig(a, u_a, b, u_b):\n",
    "    return abs(a - b) > 2 * math.sqrt(u_a**2 + u_b**2)\n",
    "\n",
    "print('Golflengte van de gele spectraallijn:')\n",
    "print(f'- Theoretisch: {real_yellow_wl*1e9:.1f} ± {u_real_yellow_wl*1e9:.1f} nm')\n",
    "print(f'- Praktisch:   {avg_yellow_wl*1e9:.1f} ± {u_avg_yellow_wl*1e9:.1f} nm')\n",
    "print(f'- Rel. fout:   {u_avg_yellow_wl/avg_yellow_wl:.1%}')\n",
    "if is_strijdig(avg_yellow_wl, u_avg_yellow_wl, real_yellow_wl, u_real_yellow_wl):\n",
    "    print(\"Is strijdig\")\n",
    "else:\n",
    "    print(\"Komt overeen\")\n",
    "print()\n",
    "\n",
    "print('Golflengte van de groene spectraallijn:')\n",
    "print(f'- Theoretisch: {real_green_wl*1e9:.1f} ± {u_real_green_wl*1e9:.1f} nm')\n",
    "print(f'- Praktisch:   {avg_green_wl*1e9:.1f} ± {u_avg_green_wl*1e9:.1f} nm')\n",
    "print(f'- Rel. fout:   {u_avg_green_wl/avg_green_wl:.1%}')\n",
    "if is_strijdig(avg_green_wl, u_avg_green_wl, real_green_wl, u_real_green_wl):\n",
    "    print(\"Is strijdig\")\n",
    "else:\n",
    "    print(\"Komt overeen\")\n",
    "print()\n",
    "\n",
    "print('Golflengte van de blauwe spectraallijn:')\n",
    "print(f'- Theoretisch: {real_blue_wl*1e9:.1f} ± {u_real_blue_wl*1e9:.1f} nm')\n",
    "print(f'- Praktisch:   {avg_blue_wl*1e9:.1f} ± {u_avg_blue_wl*1e9:.1f} nm')\n",
    "print(f'- Rel. fout:   {u_avg_blue_wl/avg_blue_wl:.1%}')\n",
    "if is_strijdig(avg_blue_wl, u_avg_blue_wl, real_blue_wl, u_real_blue_wl):\n",
    "    print(\"Is strijdig\")\n",
    "else:\n",
    "    print(\"Komt overeen\")\n",
    "print()\n"
   ]
  },
  {
   "cell_type": "code",
   "execution_count": 27,
   "metadata": {},
   "outputs": [
    {
     "name": "stdout",
     "output_type": "stream",
     "text": [
      "Verschil in golflengte van de gele spectraallijn:\n",
      "- Theoretisch: 2.0 ± 0.0 nm\n",
      "- Praktisch:   2.3 ± 0.1 nm\n",
      "- Rel. fout:   2.6%\n",
      "Is strijdig\n",
      "\n"
     ]
    }
   ],
   "source": [
    "print('Verschil in golflengte van de gele spectraallijn:')\n",
    "print(f'- Theoretisch: {real_delta_wavelength2*1e9:.1f} ± {u_real_delta_wavelength2*1e9:.1f} nm')\n",
    "print(f'- Praktisch:   {avg_delta_wavelength2*1e9:.1f} ± {u_avg_delta_wavelength2*1e9:.1f} nm')\n",
    "print(f'- Rel. fout:   {u_avg_delta_wavelength2/avg_delta_wavelength2:.1%}')\n",
    "if is_strijdig(avg_delta_wavelength2, u_avg_delta_wavelength2, real_delta_wavelength2, u_real_delta_wavelength2):\n",
    "    print(\"Is strijdig\")\n",
    "else:\n",
    "    print(\"Komt overeen\")\n",
    "print()"
   ]
  },
  {
   "cell_type": "markdown",
   "metadata": {},
   "source": [
    "# Additional notes, remarks, explanations, thoughts etc"
   ]
  },
  {
   "cell_type": "markdown",
   "metadata": {},
   "source": []
  }
 ],
 "metadata": {
  "kernelspec": {
   "display_name": "Python 3",
   "language": "python",
   "name": "python3"
  },
  "language_info": {
   "codemirror_mode": {
    "name": "ipython",
    "version": 3
   },
   "file_extension": ".py",
   "mimetype": "text/x-python",
   "name": "python",
   "nbconvert_exporter": "python",
   "pygments_lexer": "ipython3",
   "version": "3.7.4"
  }
 },
 "nbformat": 4,
 "nbformat_minor": 2
}